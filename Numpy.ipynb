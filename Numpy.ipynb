{
 "cells": [
  {
   "cell_type": "markdown",
   "id": "1be98f23",
   "metadata": {},
   "source": [
    "# Numpy Library\n"
   ]
  },
  {
   "cell_type": "code",
   "execution_count": 1,
   "id": "19d097f4",
   "metadata": {},
   "outputs": [
    {
     "data": {
      "text/plain": [
       "'1.21.5'"
      ]
     },
     "execution_count": 1,
     "metadata": {},
     "output_type": "execute_result"
    }
   ],
   "source": [
    "import numpy as np \n",
    "np.__version__"
   ]
  },
  {
   "cell_type": "markdown",
   "id": "c6ab40f0",
   "metadata": {},
   "source": [
    "# CREATE AN ARRAY USING ARRAY FUNCTION "
   ]
  },
  {
   "cell_type": "raw",
   "id": "31f8461d",
   "metadata": {},
   "source": [
    "import numpy as np\n",
    "a=np.array([1,2,3])\n",
    "print(a)\n",
    "print(a.dtype)\n",
    "print(a.shape)\n"
   ]
  },
  {
   "cell_type": "markdown",
   "id": "cc06805e",
   "metadata": {},
   "source": [
    "# CREATE A ONE DIMENTIONAL ARRAY USIND  ARANGE FUNTION "
   ]
  },
  {
   "cell_type": "code",
   "execution_count": 2,
   "id": "953c3c61",
   "metadata": {},
   "outputs": [
    {
     "name": "stdout",
     "output_type": "stream",
     "text": [
      "[1 2 3 4]\n",
      "int32\n",
      "(4,)\n"
     ]
    }
   ],
   "source": [
    "import numpy as np\n",
    "a=np.arange(1,5)\n",
    "print(a)\n",
    "print(a.dtype)\n",
    "print(a.shape)"
   ]
  },
  {
   "cell_type": "markdown",
   "id": "29d40bfa",
   "metadata": {},
   "source": [
    "# CREATE 2 DIMENTION USING ARRAY FUNCTION"
   ]
  },
  {
   "cell_type": "code",
   "execution_count": 12,
   "id": "d0f5e937",
   "metadata": {},
   "outputs": [
    {
     "name": "stdout",
     "output_type": "stream",
     "text": [
      "[[1 2 3 4]\n",
      " [5 6 7 8]]\n",
      "int32\n",
      "(2, 4)\n"
     ]
    }
   ],
   "source": [
    "import numpy as np\n",
    "a=np.array([\n",
    "    [1,2,3,4,],[5,6,7,8]\n",
    "])\n",
    "print(a)\n",
    "print(a.dtype)\n",
    "print(a.shape)"
   ]
  },
  {
   "cell_type": "markdown",
   "id": "c98cf760",
   "metadata": {},
   "source": [
    "# CREATE A 2 DIMENTIONAL ARRAY USING ARANGE FUNTION"
   ]
  },
  {
   "cell_type": "code",
   "execution_count": 5,
   "id": "1fe710e7",
   "metadata": {},
   "outputs": [
    {
     "name": "stdout",
     "output_type": "stream",
     "text": [
      "[[ 0  1  2  3  4  5]\n",
      " [ 6  7  8  9 10 11]]\n",
      "int32\n",
      "(2, 6)\n"
     ]
    }
   ],
   "source": [
    "import numpy as np\n",
    "a=np.arange(12).reshape(2,6)#MULTIPLY MUST RESULT SAME RANGE\n",
    "print(a)\n",
    "print(a.dtype)\n",
    "print(a.shape)"
   ]
  },
  {
   "cell_type": "markdown",
   "id": "af3feb66",
   "metadata": {},
   "source": [
    "# CREATE A 3 DIMENTION ARRAY USING ARRAY FUNTION "
   ]
  },
  {
   "cell_type": "code",
   "execution_count": 21,
   "id": "055c5de1",
   "metadata": {},
   "outputs": [
    {
     "name": "stdout",
     "output_type": "stream",
     "text": [
      "[[[ 1  2]\n",
      "  [ 3  4]]\n",
      "\n",
      " [[ 5  6]\n",
      "  [ 7  8]]\n",
      "\n",
      " [[ 9 10]\n",
      "  [11 12]]]\n"
     ]
    }
   ],
   "source": [
    "import numpy as np \n",
    "a=np.array(\n",
    "    [\n",
    "     [[1,2],[3,4]],\n",
    "      [[5,6],[7,8]],\n",
    "       [[9,10],[11,12]]\n",
    "]\n",
    ")\n",
    "print(a)"
   ]
  },
  {
   "cell_type": "markdown",
   "id": "4934a324",
   "metadata": {},
   "source": [
    "# CREAT A 3 DIMENTIONAL ARRAY USING ARANGE FUNTION "
   ]
  },
  {
   "cell_type": "code",
   "execution_count": 22,
   "id": "6ef8b6c0",
   "metadata": {},
   "outputs": [
    {
     "name": "stdout",
     "output_type": "stream",
     "text": [
      "[[[ 1  2]\n",
      "  [ 3  4]\n",
      "  [ 5  6]]\n",
      "\n",
      " [[ 7  8]\n",
      "  [ 9 10]\n",
      "  [11 12]]\n",
      "\n",
      " [[13 14]\n",
      "  [15 16]\n",
      "  [17 18]]]\n",
      "\n",
      "int32\n",
      "(3, 3, 2)\n"
     ]
    }
   ],
   "source": [
    "import numpy as np\n",
    "a=np.arange(1,19).reshape(3,3,2) \n",
    "print(a)\n",
    "print()\n",
    "print(a.dtype)\n",
    "print(a.shape)"
   ]
  },
  {
   "cell_type": "markdown",
   "id": "5bf5479d",
   "metadata": {},
   "source": [
    "# CREATING ARRAY OF ONCS"
   ]
  },
  {
   "cell_type": "code",
   "execution_count": 7,
   "id": "7096c812",
   "metadata": {},
   "outputs": [
    {
     "name": "stdout",
     "output_type": "stream",
     "text": [
      "[1 1 1 1 1 1 1 1 1 1]\n",
      "int32\n",
      "(10,)\n"
     ]
    }
   ],
   "source": [
    "import numpy as np \n",
    "a=np.ones(10,dtype='int32')\n",
    "print(a)\n",
    "print(a.dtype)\n",
    "print(a.shape)"
   ]
  },
  {
   "cell_type": "markdown",
   "id": "83bf90f3",
   "metadata": {},
   "source": [
    "# CREATING ARRAY OF ONES (2 DIMENTION)\n"
   ]
  },
  {
   "cell_type": "code",
   "execution_count": 8,
   "id": "cdf26901",
   "metadata": {},
   "outputs": [
    {
     "name": "stdout",
     "output_type": "stream",
     "text": [
      "[[1 1 1]\n",
      " [1 1 1]\n",
      " [1 1 1]\n",
      " [1 1 1]\n",
      " [1 1 1]\n",
      " [1 1 1]]\n",
      "int32\n",
      "(6, 3)\n"
     ]
    }
   ],
   "source": [
    "import numpy as np\n",
    "a=np.ones((6,3),dtype=np.int32)\n",
    "print(a)\n",
    "print(a.dtype)\n",
    "print(a.shape)"
   ]
  },
  {
   "cell_type": "markdown",
   "id": "4e28104c",
   "metadata": {},
   "source": [
    "# CREATING ARRAY OF ONES 3 DIMENSION"
   ]
  },
  {
   "cell_type": "code",
   "execution_count": 9,
   "id": "1c848442",
   "metadata": {},
   "outputs": [
    {
     "name": "stdout",
     "output_type": "stream",
     "text": [
      "[[[1 1 1]\n",
      "  [1 1 1]]\n",
      "\n",
      " [[1 1 1]\n",
      "  [1 1 1]]\n",
      "\n",
      " [[1 1 1]\n",
      "  [1 1 1]]]\n",
      "int32\n",
      "(3, 2, 3)\n"
     ]
    }
   ],
   "source": [
    "import numpy as np\n",
    "a=np.ones((3,2,3),dtype=np.int32)\n",
    "print(a)\n",
    "print(a.dtype)\n",
    "print(a.shape)"
   ]
  },
  {
   "cell_type": "markdown",
   "id": "a34152c5",
   "metadata": {},
   "source": [
    "# CREATING ARRAY OF ZEROS (1-D)"
   ]
  },
  {
   "cell_type": "code",
   "execution_count": 33,
   "id": "6d83af53",
   "metadata": {},
   "outputs": [
    {
     "name": "stdout",
     "output_type": "stream",
     "text": [
      "[0 0 0]\n",
      "int32\n",
      "(3,)\n"
     ]
    }
   ],
   "source": [
    "import numpy as np\n",
    "a=np.zeros(3,dtype=np.int32)\n",
    "print(a)\n",
    "print(a.dtype)\n",
    "print(a.shape)"
   ]
  },
  {
   "cell_type": "markdown",
   "id": "3da50e25",
   "metadata": {},
   "source": [
    "# CREATING ARRAY OF ZEROS (2-D)"
   ]
  },
  {
   "cell_type": "code",
   "execution_count": 10,
   "id": "8e568f35",
   "metadata": {},
   "outputs": [
    {
     "name": "stdout",
     "output_type": "stream",
     "text": [
      "[[0 0 0]\n",
      " [0 0 0]\n",
      " [0 0 0]]\n",
      "int32\n",
      "(3, 3)\n"
     ]
    }
   ],
   "source": [
    "import numpy as np\n",
    "a=np.zeros((3,3),dtype='int32')\n",
    "print(a)\n",
    "print(a.dtype)\n",
    "print(a.shape)"
   ]
  },
  {
   "cell_type": "markdown",
   "id": "75a4bf17",
   "metadata": {},
   "source": [
    "# CREATING ARRAY OF ZEROS (3-D)\n"
   ]
  },
  {
   "cell_type": "code",
   "execution_count": 14,
   "id": "7172382b",
   "metadata": {},
   "outputs": [
    {
     "name": "stdout",
     "output_type": "stream",
     "text": [
      "[[[0 0 0]\n",
      "  [0 0 0]\n",
      "  [0 0 0]]]\n",
      "int32\n",
      "(1, 3, 3)\n"
     ]
    }
   ],
   "source": [
    "import numpy as np\n",
    "a=np.zeros((1,3,3),dtype=np.int32)\n",
    "print(a)\n",
    "print(a.dtype)\n",
    "print(a.shape)"
   ]
  },
  {
   "cell_type": "markdown",
   "id": "4e69a458",
   "metadata": {},
   "source": [
    "# CREATING AN ARRAY WITH RANDOM NUMBERS (1-D)"
   ]
  },
  {
   "cell_type": "code",
   "execution_count": 16,
   "id": "9875611f",
   "metadata": {},
   "outputs": [
    {
     "name": "stdout",
     "output_type": "stream",
     "text": [
      "[7 3 3]\n",
      "int32\n",
      "(3,)\n"
     ]
    }
   ],
   "source": [
    "import numpy as np\n",
    "a=np.random.randint(1,11,size=(3)) #size=reshape\n",
    "print(a)\n",
    "print(a.dtype)\n",
    "print(a.shape)"
   ]
  },
  {
   "cell_type": "markdown",
   "id": "a2c41f3d",
   "metadata": {},
   "source": [
    "# CREATING AN ARRAY WITH RANDOM NUMBERS (2-D)"
   ]
  },
  {
   "cell_type": "code",
   "execution_count": 46,
   "id": "a5fc6b88",
   "metadata": {},
   "outputs": [
    {
     "name": "stdout",
     "output_type": "stream",
     "text": [
      "[[6 3 8 5 4]\n",
      " [8 2 5 7 4]\n",
      " [3 6 3 5 5]\n",
      " [5 9 8 7 7]]\n",
      "int32\n",
      "(4, 5)\n"
     ]
    }
   ],
   "source": [
    "import numpy as np\n",
    "a=np.random.randint(1,11,size=(4,5))\n",
    "print(a)\n",
    "print(a.dtype)\n",
    "print(a.shape)"
   ]
  },
  {
   "cell_type": "markdown",
   "id": "b42a4155",
   "metadata": {},
   "source": [
    "# CREATING AN ARRAY WITH RANDOM NUMBERS (3-D)"
   ]
  },
  {
   "cell_type": "code",
   "execution_count": 49,
   "id": "46ee6cd1",
   "metadata": {},
   "outputs": [
    {
     "name": "stdout",
     "output_type": "stream",
     "text": [
      "[[[ 3  3  7]\n",
      "  [ 9  4  1]\n",
      "  [ 9  4  4]\n",
      "  [ 9  2  2]\n",
      "  [10  8  6]]]\n",
      "int32\n",
      "(1, 5, 3)\n"
     ]
    }
   ],
   "source": [
    "import numpy as np\n",
    "a=np.random.randint(1,11,size=(1,5,3))\n",
    "print(a)\n",
    "print(a.dtype)\n",
    "print(a.shape)"
   ]
  },
  {
   "cell_type": "markdown",
   "id": "dfed8936",
   "metadata": {},
   "source": [
    "# CREATING AN ARRAY SINGLE LOW MULTIPLE HIGH"
   ]
  },
  {
   "cell_type": "code",
   "execution_count": 18,
   "id": "0b671a84",
   "metadata": {},
   "outputs": [
    {
     "name": "stdout",
     "output_type": "stream",
     "text": [
      "[ 5 17 15]\n",
      "int32\n",
      "(3,)\n"
     ]
    }
   ],
   "source": [
    "import numpy as np\n",
    "a = np.random.randint(5,[10,20,30])\n",
    "print(a)\n",
    "print(a.dtype)\n",
    "print(a.shape)"
   ]
  },
  {
   "cell_type": "markdown",
   "id": "3ae584b7",
   "metadata": {},
   "source": [
    "# CREATING ARRRAY EQUAL LOW AND HIGH"
   ]
  },
  {
   "cell_type": "code",
   "execution_count": 67,
   "id": "04b5f98b",
   "metadata": {},
   "outputs": [
    {
     "name": "stdout",
     "output_type": "stream",
     "text": [
      "[[[4 5 8]\n",
      "  [4 7 6]]\n",
      "\n",
      " [[5 4 6]\n",
      "  [3 4 9]]\n",
      "\n",
      " [[3 6 6]\n",
      "  [2 4 7]]]\n",
      "int32\n",
      "(3, 2, 3)\n"
     ]
    }
   ],
   "source": [
    "import numpy as np\n",
    "a=np.random.randint([2,4,6],[6,8,10],size=(3,2,3))#no of element == no of colums \n",
    "print(a)\n",
    "print(a.dtype)\n",
    "print(a.shape)"
   ]
  },
  {
   "cell_type": "markdown",
   "id": "56a51e7a",
   "metadata": {},
   "source": [
    "# CREATING AN ARRAY WITH MULTIPLE LOW WITH ONE HIGH"
   ]
  },
  {
   "cell_type": "code",
   "execution_count": 21,
   "id": "82420658",
   "metadata": {},
   "outputs": [
    {
     "name": "stdout",
     "output_type": "stream",
     "text": [
      "[3 3 3]\n",
      "int32\n",
      "(3,)\n"
     ]
    }
   ],
   "source": [
    "import numpy as np\n",
    "a=np.random.randint([1,2,3],4)\n",
    "print(a)\n",
    "print(a.dtype)\n",
    "print(a.shape)"
   ]
  },
  {
   "cell_type": "markdown",
   "id": "aaf8e849",
   "metadata": {},
   "source": [
    "# CREATING A ARRAY USING RANDOM()"
   ]
  },
  {
   "cell_type": "code",
   "execution_count": 23,
   "id": "43af626a",
   "metadata": {},
   "outputs": [
    {
     "name": "stdout",
     "output_type": "stream",
     "text": [
      "[ 0.41408388 -0.97386959 -1.05557458]\n",
      "float64\n",
      "(3,)\n"
     ]
    }
   ],
   "source": [
    "import numpy as np\n",
    "a=np.random.randn(3)\n",
    "print(a)\n",
    "print(a.dtype)\n",
    "print(a.shape)"
   ]
  },
  {
   "cell_type": "code",
   "execution_count": 27,
   "id": "04f94d32",
   "metadata": {},
   "outputs": [
    {
     "name": "stdout",
     "output_type": "stream",
     "text": [
      "[[-1.37385085e+00  5.44857541e-01 -2.86803057e-01]\n",
      " [ 1.85036783e+00  8.58261491e-01  1.19775241e-03]\n",
      " [-6.88405046e-01  1.87612116e+00 -4.13264025e-01]]\n",
      "float64\n",
      "(3, 3)\n"
     ]
    }
   ],
   "source": [
    "import numpy as np\n",
    "a=np.random.randn(3,3)\n",
    "print(a)\n",
    "print(a.dtype)\n",
    "print(a.shape)"
   ]
  },
  {
   "cell_type": "markdown",
   "id": "81feedd8",
   "metadata": {},
   "source": [
    "# CREATING AN ARRAY USING RAND()"
   ]
  },
  {
   "cell_type": "code",
   "execution_count": 30,
   "id": "b4835edb",
   "metadata": {},
   "outputs": [
    {
     "name": "stdout",
     "output_type": "stream",
     "text": [
      "[0.94907377 0.97298239 0.62493843]\n",
      "float64\n",
      "(3,)\n"
     ]
    }
   ],
   "source": [
    "import numpy as np\n",
    "a=np.random.rand(3)\n",
    "print(a)\n",
    "print(a.dtype)\n",
    "print(a.shape)"
   ]
  },
  {
   "cell_type": "code",
   "execution_count": 31,
   "id": "229883e6",
   "metadata": {},
   "outputs": [
    {
     "name": "stdout",
     "output_type": "stream",
     "text": [
      "[[0.01532418 0.91092239 0.22434252]\n",
      " [0.61366661 0.69463749 0.26917108]\n",
      " [0.89064006 0.45670891 0.29060844]]\n",
      "float64\n",
      "(3, 3)\n"
     ]
    }
   ],
   "source": [
    "import numpy as np\n",
    "a=np.random.rand(3,3)\n",
    "print(a)\n",
    "print(a.dtype)\n",
    "print(a.shape)"
   ]
  },
  {
   "cell_type": "code",
   "execution_count": 32,
   "id": "3ef9a685",
   "metadata": {},
   "outputs": [
    {
     "name": "stdout",
     "output_type": "stream",
     "text": [
      "[[[0.63135787 0.18637186]\n",
      "  [0.40742581 0.72084617]\n",
      "  [0.09924947 0.02513917]]\n",
      "\n",
      " [[0.81187586 0.0715163 ]\n",
      "  [0.9374703  0.87126375]\n",
      "  [0.20819093 0.55580269]]\n",
      "\n",
      " [[0.93340824 0.97000333]\n",
      "  [0.04059398 0.26247516]\n",
      "  [0.38513586 0.92894269]]]\n",
      "float64\n",
      "(3, 3, 2)\n"
     ]
    }
   ],
   "source": [
    "import numpy as np\n",
    "a=np.random.rand(3,3,2)\n",
    "print(a)\n",
    "print(a.dtype)\n",
    "print(a.shape)"
   ]
  },
  {
   "cell_type": "markdown",
   "id": "eeeeaf88",
   "metadata": {},
   "source": [
    "# POSITIVE INDEXING IN ARRAY "
   ]
  },
  {
   "cell_type": "code",
   "execution_count": null,
   "id": "22a7e664",
   "metadata": {},
   "outputs": [],
   "source": [
    "#ARRAY IN 1-D"
   ]
  },
  {
   "cell_type": "code",
   "execution_count": 34,
   "id": "df8315e3",
   "metadata": {},
   "outputs": [
    {
     "name": "stdout",
     "output_type": "stream",
     "text": [
      "8\n"
     ]
    }
   ],
   "source": [
    "import numpy as np\n",
    "arr=np.array([9,8,7,6])\n",
    "print(arr[1])"
   ]
  },
  {
   "cell_type": "code",
   "execution_count": null,
   "id": "14d82dc6",
   "metadata": {},
   "outputs": [],
   "source": [
    "#ARRAY IN 2-D"
   ]
  },
  {
   "cell_type": "code",
   "execution_count": 36,
   "id": "55845e58",
   "metadata": {},
   "outputs": [
    {
     "name": "stdout",
     "output_type": "stream",
     "text": [
      "5\n",
      "6\n"
     ]
    }
   ],
   "source": [
    "import numpy as np\n",
    "arr=np.array([[9,8,7,6],[5,4,3,2]])\n",
    "print(arr[1,0])\n",
    "print(arr[0,3])"
   ]
  },
  {
   "cell_type": "code",
   "execution_count": null,
   "id": "7a30b006",
   "metadata": {},
   "outputs": [],
   "source": [
    "#ARRAY IN 3-D"
   ]
  },
  {
   "cell_type": "code",
   "execution_count": 43,
   "id": "649f9820",
   "metadata": {},
   "outputs": [
    {
     "name": "stdout",
     "output_type": "stream",
     "text": [
      "6\n",
      "9\n"
     ]
    }
   ],
   "source": [
    "import numpy as np\n",
    "arr=np.array([[[1,1,1],[1,1,1]],[[2,2,2],[2,6,2]],[[3,3,3],[3,9,3]]])\n",
    "print(arr[1,1,1])\n",
    "print(arr[2,1,1])"
   ]
  },
  {
   "cell_type": "markdown",
   "id": "14b06cf5",
   "metadata": {},
   "source": [
    "# NEGATIVE INDEXING IN ARRAY "
   ]
  },
  {
   "cell_type": "code",
   "execution_count": null,
   "id": "09216587",
   "metadata": {},
   "outputs": [],
   "source": [
    "#ARRAY IN 1-D"
   ]
  },
  {
   "cell_type": "code",
   "execution_count": 44,
   "id": "07bbca1c",
   "metadata": {},
   "outputs": [
    {
     "name": "stdout",
     "output_type": "stream",
     "text": [
      "5\n"
     ]
    }
   ],
   "source": [
    "import numpy as np\n",
    "arr=np.array([4,5,1,0])\n",
    "print(arr[-3])"
   ]
  },
  {
   "cell_type": "code",
   "execution_count": null,
   "id": "ea7f3989",
   "metadata": {},
   "outputs": [],
   "source": [
    "#ARRAY IN 2-D"
   ]
  },
  {
   "cell_type": "code",
   "execution_count": 45,
   "id": "6062cba5",
   "metadata": {},
   "outputs": [
    {
     "name": "stdout",
     "output_type": "stream",
     "text": [
      "5\n"
     ]
    }
   ],
   "source": [
    "import numpy as np\n",
    "arr=np.array([[4,5,7],[1,0,6]])\n",
    "print(arr[-2,-2])"
   ]
  },
  {
   "cell_type": "code",
   "execution_count": null,
   "id": "0f7ac513",
   "metadata": {},
   "outputs": [],
   "source": [
    "#ARRAY IN 3-D"
   ]
  },
  {
   "cell_type": "code",
   "execution_count": 50,
   "id": "22c02427",
   "metadata": {},
   "outputs": [
    {
     "name": "stdout",
     "output_type": "stream",
     "text": [
      "0\n",
      "2\n"
     ]
    }
   ],
   "source": [
    "import numpy as np\n",
    "arr=np.array([[[1,2,3],[4,5,6]],[[7,8,9],[9,8,7]],[[9,4,0],[3,-2,2]]])\n",
    "print(arr[-1,-2,-1])\n",
    "print(arr[-1,-1,2])"
   ]
  },
  {
   "cell_type": "markdown",
   "id": "a13a0a5c",
   "metadata": {},
   "source": [
    "# MIX + -"
   ]
  },
  {
   "cell_type": "code",
   "execution_count": null,
   "id": "4051ca0f",
   "metadata": {},
   "outputs": [],
   "source": [
    "#ARRAY IN 3-D"
   ]
  },
  {
   "cell_type": "code",
   "execution_count": 59,
   "id": "d6bd6c8b",
   "metadata": {},
   "outputs": [
    {
     "name": "stdout",
     "output_type": "stream",
     "text": [
      "2\n",
      "7\n",
      "4\n",
      "0\n"
     ]
    }
   ],
   "source": [
    "import numpy as np\n",
    "arr=np.array([[[9,4,0],[3,2,2]],[[9,8,5],[7,7,7]],[[4,8,7],[1,1,9]]])\n",
    "print(arr[-3,-1,-2])\n",
    "print(arr[1,-1,1])\n",
    "print(arr[0,0,1])\n",
    "print(arr[-3,-2,-1])"
   ]
  },
  {
   "cell_type": "markdown",
   "id": "21b88a7c",
   "metadata": {},
   "source": [
    "# NUMPY ARRAY SLICING"
   ]
  },
  {
   "cell_type": "code",
   "execution_count": null,
   "id": "25f8d80a",
   "metadata": {},
   "outputs": [],
   "source": [
    "#SLICE ELEMENT FROM INDEX 1 TO INDEX 5 FROM THE FOLLOWING ARRAY "
   ]
  },
  {
   "cell_type": "code",
   "execution_count": 60,
   "id": "1b6f7a25",
   "metadata": {},
   "outputs": [
    {
     "name": "stdout",
     "output_type": "stream",
     "text": [
      "[2 3 4 5]\n"
     ]
    }
   ],
   "source": [
    "import numpy as np\n",
    "a=np.array([1,2,3,4,5])\n",
    "print(a[1:5])"
   ]
  },
  {
   "cell_type": "code",
   "execution_count": null,
   "id": "80a41c11",
   "metadata": {},
   "outputs": [],
   "source": [
    "#SLICE ELEMENT FROM INDEX 4 TO THE END OF THE ARRAY"
   ]
  },
  {
   "cell_type": "code",
   "execution_count": 61,
   "id": "1857756c",
   "metadata": {},
   "outputs": [
    {
     "name": "stdout",
     "output_type": "stream",
     "text": [
      "[2]\n"
     ]
    }
   ],
   "source": [
    "import numpy as np\n",
    "a=np.array([9,4,0,3,2,])\n",
    "print(a[4:])"
   ]
  },
  {
   "cell_type": "code",
   "execution_count": null,
   "id": "3df7c806",
   "metadata": {},
   "outputs": [],
   "source": [
    "#SLICE ELEMENT FROM THE BEGINNING TO INDEX 4 (NOT INCLUDED)"
   ]
  },
  {
   "cell_type": "code",
   "execution_count": 62,
   "id": "df4dfb84",
   "metadata": {},
   "outputs": [
    {
     "name": "stdout",
     "output_type": "stream",
     "text": [
      "[1 2 3 4]\n"
     ]
    }
   ],
   "source": [
    "import numpy as np\n",
    "a=np.array([1,2,3,4,5])\n",
    "print(a[:4])"
   ]
  },
  {
   "cell_type": "markdown",
   "id": "a691cc66",
   "metadata": {},
   "source": [
    "# NEGATIVE SLICING"
   ]
  },
  {
   "cell_type": "code",
   "execution_count": null,
   "id": "57cd37bc",
   "metadata": {},
   "outputs": [],
   "source": [
    "# SLICE FROM THE INDEX 3 FROM THE END TO INDEX 1 FROM THE END"
   ]
  },
  {
   "cell_type": "code",
   "execution_count": 63,
   "id": "920a61a5",
   "metadata": {},
   "outputs": [
    {
     "name": "stdout",
     "output_type": "stream",
     "text": [
      "[5 6]\n"
     ]
    }
   ],
   "source": [
    "import numpy as np\n",
    "a=np.array([1,2,3,4,5,6,7])\n",
    "print(a[-3:-1])"
   ]
  },
  {
   "cell_type": "code",
   "execution_count": null,
   "id": "2e6b7f4b",
   "metadata": {},
   "outputs": [],
   "source": [
    "# RETURN EVERY OTHER ELEMENT FROM INDEX 1 TO INDEX 5"
   ]
  },
  {
   "cell_type": "code",
   "execution_count": 67,
   "id": "595fc571",
   "metadata": {},
   "outputs": [
    {
     "name": "stdout",
     "output_type": "stream",
     "text": [
      "[2 4]\n"
     ]
    }
   ],
   "source": [
    "import numpy as np\n",
    "a=np.array([1,2,3,4,5,6,7,])\n",
    "print(a[1:5:2])"
   ]
  },
  {
   "cell_type": "code",
   "execution_count": null,
   "id": "b335a627",
   "metadata": {},
   "outputs": [],
   "source": [
    "# RETURN EVERY OTHER ELEMENT FROM THE ENTIRE ARRAY"
   ]
  },
  {
   "cell_type": "code",
   "execution_count": 68,
   "id": "5c6f8a51",
   "metadata": {},
   "outputs": [
    {
     "name": "stdout",
     "output_type": "stream",
     "text": [
      "[9 7 5 3]\n"
     ]
    }
   ],
   "source": [
    "import numpy as np\n",
    "a=np.array([9,8,7,6,5,4,3])\n",
    "print(a[::2])"
   ]
  },
  {
   "cell_type": "markdown",
   "id": "f2c17499",
   "metadata": {},
   "source": [
    "# SLICING 2-D ARRAY"
   ]
  },
  {
   "cell_type": "code",
   "execution_count": null,
   "id": "9886a2dc",
   "metadata": {},
   "outputs": [],
   "source": [
    "# FROM THE SECOND ELEMENT,SLICE ELEMENTS FROM INDEX 1 TO INDEX 4 (NOT INCLUDED)"
   ]
  },
  {
   "cell_type": "code",
   "execution_count": 78,
   "id": "9514c065",
   "metadata": {},
   "outputs": [
    {
     "name": "stdout",
     "output_type": "stream",
     "text": [
      "[4 3 2]\n"
     ]
    }
   ],
   "source": [
    "import numpy as np\n",
    "a=np.array([[9,8,7,6],[5,4,3,2]])\n",
    "print(a[1,1:4])"
   ]
  },
  {
   "cell_type": "code",
   "execution_count": 79,
   "id": "ac2b2926",
   "metadata": {},
   "outputs": [],
   "source": [
    "# FROM THE BOTH ARRAYS,RETURNS INDEX 2 "
   ]
  },
  {
   "cell_type": "code",
   "execution_count": 80,
   "id": "8f30b26c",
   "metadata": {},
   "outputs": [
    {
     "name": "stdout",
     "output_type": "stream",
     "text": [
      "[3 8]\n"
     ]
    }
   ],
   "source": [
    "import numpy as np\n",
    "a=np.array([[1,2,3,4,5],[6,7,8,9,10]])\n",
    "print(a[0:2,2])"
   ]
  },
  {
   "cell_type": "code",
   "execution_count": null,
   "id": "5d873178",
   "metadata": {},
   "outputs": [],
   "source": [
    "# FROM BOTH ELEMENTS SLICE INDEX 1 TO INDEX 4 (NOT INCLUDED) THIS WILL RETURN A 2-D ARRAY "
   ]
  },
  {
   "cell_type": "code",
   "execution_count": 84,
   "id": "7ff95a9f",
   "metadata": {},
   "outputs": [
    {
     "name": "stdout",
     "output_type": "stream",
     "text": [
      "[[2 3 4]\n",
      " [7 8 9]]\n"
     ]
    }
   ],
   "source": [
    "import numpy as np\n",
    "a=np.array([[1,2,3,4,5],[6,7,8,9,10]])\n",
    "print(a[0:2,1:4])"
   ]
  },
  {
   "cell_type": "markdown",
   "id": "b141abbf",
   "metadata": {},
   "source": [
    "# NUMPY ARRAY COPY VS VIEW"
   ]
  },
  {
   "cell_type": "markdown",
   "id": "803ac802",
   "metadata": {},
   "source": [
    "# COPY"
   ]
  },
  {
   "cell_type": "code",
   "execution_count": 8,
   "id": "467e8f9d",
   "metadata": {},
   "outputs": [
    {
     "name": "stdout",
     "output_type": "stream",
     "text": [
      "[1 2 3 4 6]\n",
      "[45  2  3  4  6]\n"
     ]
    }
   ],
   "source": [
    "import numpy as np\n",
    "a=np.array([1,2,3,4,6])\n",
    "b=np.copy(a)\n",
    "print(a)\n",
    "b[0]=45\n",
    "print(b)\n"
   ]
  },
  {
   "cell_type": "markdown",
   "id": "302c2767",
   "metadata": {},
   "source": [
    "# VIEW"
   ]
  },
  {
   "cell_type": "code",
   "execution_count": 9,
   "id": "7f4a9790",
   "metadata": {},
   "outputs": [
    {
     "name": "stdout",
     "output_type": "stream",
     "text": [
      "[1 2 5 4 5 6]\n",
      "[1 2 5 4 5 6]\n"
     ]
    }
   ],
   "source": [
    "import numpy as np\n",
    "a=np.array([1,2,3,4,5,6])\n",
    "b=a.view()\n",
    "a[2]=5\n",
    "print(a)\n",
    "print(b)"
   ]
  },
  {
   "cell_type": "markdown",
   "id": "b3b94ee4",
   "metadata": {},
   "source": [
    "# RESHAPING FUNCTION"
   ]
  },
  {
   "cell_type": "code",
   "execution_count": 18,
   "id": "a2bc2333",
   "metadata": {},
   "outputs": [
    {
     "name": "stdout",
     "output_type": "stream",
     "text": [
      "[1 2 3 4 5 6 7 8 9 0]\n",
      "[[1 2]\n",
      " [3 4]\n",
      " [5 6]\n",
      " [7 8]\n",
      " [9 0]]\n"
     ]
    }
   ],
   "source": [
    "import numpy as np\n",
    "a=np.array([1,2,3,4,5,6,7,8,9,0])\n",
    "b=a.reshape(5,2)\n",
    "print(a)\n",
    "print(b)"
   ]
  },
  {
   "cell_type": "code",
   "execution_count": 21,
   "id": "58af18ae",
   "metadata": {},
   "outputs": [
    {
     "name": "stdout",
     "output_type": "stream",
     "text": [
      "[1 2 3 4 5 6 7 8 9 0 9 8]\n",
      "[[[1 2]\n",
      "  [3 4]\n",
      "  [5 6]]\n",
      "\n",
      " [[7 8]\n",
      "  [9 0]\n",
      "  [9 8]]]\n"
     ]
    }
   ],
   "source": [
    "import numpy as np\n",
    "a=np.array([1,2,3,4,5,6,7,8,9,0,9,8])\n",
    "b=a.reshape(2,3,2)\n",
    "print(a)\n",
    "print(b)"
   ]
  },
  {
   "cell_type": "markdown",
   "id": "6aece4e9",
   "metadata": {},
   "source": [
    "# sum () FUNCTION"
   ]
  },
  {
   "cell_type": "code",
   "execution_count": 24,
   "id": "b1eb305e",
   "metadata": {},
   "outputs": [
    {
     "name": "stdout",
     "output_type": "stream",
     "text": [
      "[1 2 3 4]\n",
      "10\n"
     ]
    }
   ],
   "source": [
    "import numpy as np\n",
    "a=np.array([1,2,3,4])\n",
    "b=np.sum(a)\n",
    "print(a)\n",
    "print(b)"
   ]
  },
  {
   "cell_type": "code",
   "execution_count": 29,
   "id": "20de4a31",
   "metadata": {},
   "outputs": [
    {
     "name": "stdout",
     "output_type": "stream",
     "text": [
      "[[1 2 3 4]\n",
      " [5 4 6 7]]\n",
      "[ 6  6  9 11]\n"
     ]
    }
   ],
   "source": [
    "import numpy as np\n",
    "a=np.array([[1,2,3,4],\n",
    "          [5,4,6,7]])\n",
    "b=np.sum(a, axis = 0)\n",
    "print(a)\n",
    "print(b)"
   ]
  },
  {
   "cell_type": "markdown",
   "id": "83ab9e60",
   "metadata": {},
   "source": [
    "# MEAN ()"
   ]
  },
  {
   "cell_type": "code",
   "execution_count": 36,
   "id": "165f47a3",
   "metadata": {},
   "outputs": [
    {
     "name": "stdout",
     "output_type": "stream",
     "text": [
      "[1 2 3 4]\n",
      "2.5\n"
     ]
    }
   ],
   "source": [
    "import numpy as np\n",
    "a=np.array([1,2,3,4])\n",
    "b=np.mean(a)\n",
    "print(a)\n",
    "print(b)"
   ]
  },
  {
   "cell_type": "code",
   "execution_count": 52,
   "id": "3a25c215",
   "metadata": {},
   "outputs": [
    {
     "name": "stdout",
     "output_type": "stream",
     "text": [
      "[[1 2 3 4]\n",
      " [5 6 7 8]]\n",
      "[2.5 6.5]\n"
     ]
    }
   ],
   "source": [
    " import numpy as np\n",
    "a=np.array([[1,2,3,4],\n",
    "          [5,6,7,8]])\n",
    "b=np.mean(a,axis = 1)\n",
    "print(a)\n",
    "print(b)"
   ]
  },
  {
   "cell_type": "markdown",
   "id": "928360c7",
   "metadata": {},
   "source": [
    "# STANDERED (STD)"
   ]
  },
  {
   "cell_type": "code",
   "execution_count": 35,
   "id": "2ce2d34c",
   "metadata": {},
   "outputs": [
    {
     "name": "stdout",
     "output_type": "stream",
     "text": [
      "[1 2 3 4]\n",
      "1.118033988749895\n"
     ]
    }
   ],
   "source": [
    "import numpy as np\n",
    "a=np.array([1,2,3,4])\n",
    "b=np.std(a)\n",
    "print(a)\n",
    "print(b)"
   ]
  },
  {
   "cell_type": "code",
   "execution_count": 53,
   "id": "c5084cc0",
   "metadata": {},
   "outputs": [
    {
     "name": "stdout",
     "output_type": "stream",
     "text": [
      "[[1 2 3 4]\n",
      " [6 7 8 9]]\n",
      "[2.5 2.5 2.5 2.5]\n"
     ]
    }
   ],
   "source": [
    "import numpy as np\n",
    "a=np.array([[1,2,3,4],\n",
    "            [6,7,8,9]])\n",
    "b=np.std(a,axis = 0)\n",
    "print(a)\n",
    "print(b)"
   ]
  },
  {
   "cell_type": "markdown",
   "id": "d46ff206",
   "metadata": {},
   "source": [
    "# VARIANCE Array ()"
   ]
  },
  {
   "cell_type": "code",
   "execution_count": 39,
   "id": "6fe64f7c",
   "metadata": {},
   "outputs": [
    {
     "name": "stdout",
     "output_type": "stream",
     "text": [
      "[1 2 3 4]\n",
      "1.25\n"
     ]
    }
   ],
   "source": [
    "import numpy as np\n",
    "a=np.array([1,2,3,4])\n",
    "b=np.var(a)\n",
    "print(a)\n",
    "print(b)"
   ]
  },
  {
   "cell_type": "code",
   "execution_count": 54,
   "id": "46d98435",
   "metadata": {},
   "outputs": [
    {
     "name": "stdout",
     "output_type": "stream",
     "text": [
      "[[1 9 3 4]\n",
      " [9 8 7 6]]\n",
      "[8.6875 1.25  ]\n"
     ]
    }
   ],
   "source": [
    "import numpy as np\n",
    "a=np.array([[1,9,3,4],\n",
    "          [9,8,7,6]])\n",
    "b=np.var(a,axis = 1)\n",
    "print(a)\n",
    "print(b)"
   ]
  },
  {
   "cell_type": "markdown",
   "id": "3566ee0d",
   "metadata": {},
   "source": [
    "# MIN ()"
   ]
  },
  {
   "cell_type": "code",
   "execution_count": 42,
   "id": "9d04d8ba",
   "metadata": {},
   "outputs": [
    {
     "name": "stdout",
     "output_type": "stream",
     "text": [
      "[1 2 3 4]\n",
      "1\n"
     ]
    }
   ],
   "source": [
    "import numpy as np\n",
    "a=np.array([1,2,3,4])\n",
    "b=np.min(a)\n",
    "print(a)\n",
    "print(b)"
   ]
  },
  {
   "cell_type": "code",
   "execution_count": 55,
   "id": "73c293d7",
   "metadata": {},
   "outputs": [
    {
     "name": "stdout",
     "output_type": "stream",
     "text": [
      "[[6 9 3 4]\n",
      " [4 5 6 7]]\n",
      "[4 5 3 4]\n"
     ]
    }
   ],
   "source": [
    "import numpy as np\n",
    "a=np.array([[6,9,3,4],\n",
    "          [4,5,6,7]])\n",
    "b=np.min(a,axis = 0)\n",
    "print(a)\n",
    "print(b)"
   ]
  },
  {
   "cell_type": "markdown",
   "id": "fac4ba80",
   "metadata": {},
   "source": [
    "# MAX ()"
   ]
  },
  {
   "cell_type": "code",
   "execution_count": 47,
   "id": "f16f5389",
   "metadata": {},
   "outputs": [
    {
     "name": "stdout",
     "output_type": "stream",
     "text": [
      "[1 2 3 4]\n",
      "4\n"
     ]
    }
   ],
   "source": [
    "import numpy as np\n",
    "a=np.array([1,2,3,4])\n",
    "b=np.max(a)\n",
    "print(a)\n",
    "print(b)"
   ]
  },
  {
   "cell_type": "code",
   "execution_count": 57,
   "id": "3fe19e2e",
   "metadata": {},
   "outputs": [
    {
     "name": "stdout",
     "output_type": "stream",
     "text": [
      "[[6 9 3 4]\n",
      " [0 8 7 6]]\n",
      "[9 8]\n"
     ]
    }
   ],
   "source": [
    "import numpy as np\n",
    "a=np.array([[6,9,3,4],\n",
    "            [0,8,7,6]])\n",
    "b=np.max(a,axis = 1)\n",
    "print(a)\n",
    "print(b)"
   ]
  },
  {
   "cell_type": "code",
   "execution_count": null,
   "id": "e0ac5b94",
   "metadata": {},
   "outputs": [],
   "source": []
  }
 ],
 "metadata": {
  "kernelspec": {
   "display_name": "Python 3 (ipykernel)",
   "language": "python",
   "name": "python3"
  },
  "language_info": {
   "codemirror_mode": {
    "name": "ipython",
    "version": 3
   },
   "file_extension": ".py",
   "mimetype": "text/x-python",
   "name": "python",
   "nbconvert_exporter": "python",
   "pygments_lexer": "ipython3",
   "version": "3.9.12"
  }
 },
 "nbformat": 4,
 "nbformat_minor": 5
}
