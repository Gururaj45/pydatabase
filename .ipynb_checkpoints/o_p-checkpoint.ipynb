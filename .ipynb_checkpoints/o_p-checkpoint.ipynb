{
 "cells": [
  {
   "cell_type": "code",
   "execution_count": 46,
   "id": "caf8bc0b",
   "metadata": {},
   "outputs": [],
   "source": [
    "import pandas as pd\n",
    "import numpy as np"
   ]
  },
  {
   "cell_type": "code",
   "execution_count": 47,
   "id": "4d2c9b80",
   "metadata": {},
   "outputs": [],
   "source": [
    "df = pd.read_csv('dataset/kidney_stone_data.csv')"
   ]
  },
  {
   "cell_type": "code",
   "execution_count": 48,
   "id": "8a5fecd0",
   "metadata": {},
   "outputs": [
    {
     "data": {
      "text/html": [
       "<div>\n",
       "<style scoped>\n",
       "    .dataframe tbody tr th:only-of-type {\n",
       "        vertical-align: middle;\n",
       "    }\n",
       "\n",
       "    .dataframe tbody tr th {\n",
       "        vertical-align: top;\n",
       "    }\n",
       "\n",
       "    .dataframe thead th {\n",
       "        text-align: right;\n",
       "    }\n",
       "</style>\n",
       "<table border=\"1\" class=\"dataframe\">\n",
       "  <thead>\n",
       "    <tr style=\"text-align: right;\">\n",
       "      <th></th>\n",
       "      <th>treatment</th>\n",
       "      <th>stone_size</th>\n",
       "      <th>success</th>\n",
       "    </tr>\n",
       "  </thead>\n",
       "  <tbody>\n",
       "    <tr>\n",
       "      <th>0</th>\n",
       "      <td>B</td>\n",
       "      <td>large</td>\n",
       "      <td>1</td>\n",
       "    </tr>\n",
       "    <tr>\n",
       "      <th>1</th>\n",
       "      <td>A</td>\n",
       "      <td>large</td>\n",
       "      <td>1</td>\n",
       "    </tr>\n",
       "    <tr>\n",
       "      <th>2</th>\n",
       "      <td>A</td>\n",
       "      <td>large</td>\n",
       "      <td>0</td>\n",
       "    </tr>\n",
       "    <tr>\n",
       "      <th>3</th>\n",
       "      <td>A</td>\n",
       "      <td>large</td>\n",
       "      <td>1</td>\n",
       "    </tr>\n",
       "    <tr>\n",
       "      <th>4</th>\n",
       "      <td>A</td>\n",
       "      <td>large</td>\n",
       "      <td>1</td>\n",
       "    </tr>\n",
       "    <tr>\n",
       "      <th>...</th>\n",
       "      <td>...</td>\n",
       "      <td>...</td>\n",
       "      <td>...</td>\n",
       "    </tr>\n",
       "    <tr>\n",
       "      <th>695</th>\n",
       "      <td>B</td>\n",
       "      <td>small</td>\n",
       "      <td>0</td>\n",
       "    </tr>\n",
       "    <tr>\n",
       "      <th>696</th>\n",
       "      <td>B</td>\n",
       "      <td>small</td>\n",
       "      <td>1</td>\n",
       "    </tr>\n",
       "    <tr>\n",
       "      <th>697</th>\n",
       "      <td>B</td>\n",
       "      <td>small</td>\n",
       "      <td>1</td>\n",
       "    </tr>\n",
       "    <tr>\n",
       "      <th>698</th>\n",
       "      <td>A</td>\n",
       "      <td>large</td>\n",
       "      <td>1</td>\n",
       "    </tr>\n",
       "    <tr>\n",
       "      <th>699</th>\n",
       "      <td>A</td>\n",
       "      <td>small</td>\n",
       "      <td>1</td>\n",
       "    </tr>\n",
       "  </tbody>\n",
       "</table>\n",
       "<p>700 rows × 3 columns</p>\n",
       "</div>"
      ],
      "text/plain": [
       "    treatment stone_size  success\n",
       "0           B      large        1\n",
       "1           A      large        1\n",
       "2           A      large        0\n",
       "3           A      large        1\n",
       "4           A      large        1\n",
       "..        ...        ...      ...\n",
       "695         B      small        0\n",
       "696         B      small        1\n",
       "697         B      small        1\n",
       "698         A      large        1\n",
       "699         A      small        1\n",
       "\n",
       "[700 rows x 3 columns]"
      ]
     },
     "execution_count": 48,
     "metadata": {},
     "output_type": "execute_result"
    }
   ],
   "source": [
    "df"
   ]
  },
  {
   "cell_type": "code",
   "execution_count": 49,
   "id": "fa4704a9",
   "metadata": {},
   "outputs": [
    {
     "data": {
      "text/plain": [
       "treatment     0\n",
       "stone_size    0\n",
       "success       0\n",
       "dtype: int64"
      ]
     },
     "execution_count": 49,
     "metadata": {},
     "output_type": "execute_result"
    }
   ],
   "source": [
    "df.isnull().sum()"
   ]
  },
  {
   "cell_type": "code",
   "execution_count": 50,
   "id": "a5235db4",
   "metadata": {},
   "outputs": [],
   "source": [
    "x = pd.DataFrame(df.iloc[:,[0,1]])"
   ]
  },
  {
   "cell_type": "code",
   "execution_count": 51,
   "id": "ac0a3d34",
   "metadata": {},
   "outputs": [
    {
     "data": {
      "text/html": [
       "<div>\n",
       "<style scoped>\n",
       "    .dataframe tbody tr th:only-of-type {\n",
       "        vertical-align: middle;\n",
       "    }\n",
       "\n",
       "    .dataframe tbody tr th {\n",
       "        vertical-align: top;\n",
       "    }\n",
       "\n",
       "    .dataframe thead th {\n",
       "        text-align: right;\n",
       "    }\n",
       "</style>\n",
       "<table border=\"1\" class=\"dataframe\">\n",
       "  <thead>\n",
       "    <tr style=\"text-align: right;\">\n",
       "      <th></th>\n",
       "      <th>treatment</th>\n",
       "      <th>stone_size</th>\n",
       "    </tr>\n",
       "  </thead>\n",
       "  <tbody>\n",
       "    <tr>\n",
       "      <th>0</th>\n",
       "      <td>B</td>\n",
       "      <td>large</td>\n",
       "    </tr>\n",
       "    <tr>\n",
       "      <th>1</th>\n",
       "      <td>A</td>\n",
       "      <td>large</td>\n",
       "    </tr>\n",
       "    <tr>\n",
       "      <th>2</th>\n",
       "      <td>A</td>\n",
       "      <td>large</td>\n",
       "    </tr>\n",
       "    <tr>\n",
       "      <th>3</th>\n",
       "      <td>A</td>\n",
       "      <td>large</td>\n",
       "    </tr>\n",
       "    <tr>\n",
       "      <th>4</th>\n",
       "      <td>A</td>\n",
       "      <td>large</td>\n",
       "    </tr>\n",
       "    <tr>\n",
       "      <th>...</th>\n",
       "      <td>...</td>\n",
       "      <td>...</td>\n",
       "    </tr>\n",
       "    <tr>\n",
       "      <th>695</th>\n",
       "      <td>B</td>\n",
       "      <td>small</td>\n",
       "    </tr>\n",
       "    <tr>\n",
       "      <th>696</th>\n",
       "      <td>B</td>\n",
       "      <td>small</td>\n",
       "    </tr>\n",
       "    <tr>\n",
       "      <th>697</th>\n",
       "      <td>B</td>\n",
       "      <td>small</td>\n",
       "    </tr>\n",
       "    <tr>\n",
       "      <th>698</th>\n",
       "      <td>A</td>\n",
       "      <td>large</td>\n",
       "    </tr>\n",
       "    <tr>\n",
       "      <th>699</th>\n",
       "      <td>A</td>\n",
       "      <td>small</td>\n",
       "    </tr>\n",
       "  </tbody>\n",
       "</table>\n",
       "<p>700 rows × 2 columns</p>\n",
       "</div>"
      ],
      "text/plain": [
       "    treatment stone_size\n",
       "0           B      large\n",
       "1           A      large\n",
       "2           A      large\n",
       "3           A      large\n",
       "4           A      large\n",
       "..        ...        ...\n",
       "695         B      small\n",
       "696         B      small\n",
       "697         B      small\n",
       "698         A      large\n",
       "699         A      small\n",
       "\n",
       "[700 rows x 2 columns]"
      ]
     },
     "execution_count": 51,
     "metadata": {},
     "output_type": "execute_result"
    }
   ],
   "source": [
    "x"
   ]
  },
  {
   "cell_type": "code",
   "execution_count": 52,
   "id": "664238bc",
   "metadata": {},
   "outputs": [],
   "source": [
    "y = df.iloc[:,-1]"
   ]
  },
  {
   "cell_type": "code",
   "execution_count": 53,
   "id": "f2cec7cf",
   "metadata": {},
   "outputs": [
    {
     "data": {
      "text/plain": [
       "0      1\n",
       "1      1\n",
       "2      0\n",
       "3      1\n",
       "4      1\n",
       "      ..\n",
       "695    0\n",
       "696    1\n",
       "697    1\n",
       "698    1\n",
       "699    1\n",
       "Name: success, Length: 700, dtype: int64"
      ]
     },
     "execution_count": 53,
     "metadata": {},
     "output_type": "execute_result"
    }
   ],
   "source": [
    "y"
   ]
  },
  {
   "cell_type": "code",
   "execution_count": 54,
   "id": "16f131de",
   "metadata": {},
   "outputs": [],
   "source": [
    "from sklearn.model_selection import train_test_split"
   ]
  },
  {
   "cell_type": "code",
   "execution_count": 55,
   "id": "e79685b6",
   "metadata": {},
   "outputs": [],
   "source": [
    "x_train,x_test,y_train,y_test = train_test_split(x,y,test_size = 0.2,random_state =42)"
   ]
  },
  {
   "cell_type": "code",
   "execution_count": 56,
   "id": "79167654",
   "metadata": {},
   "outputs": [
    {
     "data": {
      "text/html": [
       "<div>\n",
       "<style scoped>\n",
       "    .dataframe tbody tr th:only-of-type {\n",
       "        vertical-align: middle;\n",
       "    }\n",
       "\n",
       "    .dataframe tbody tr th {\n",
       "        vertical-align: top;\n",
       "    }\n",
       "\n",
       "    .dataframe thead th {\n",
       "        text-align: right;\n",
       "    }\n",
       "</style>\n",
       "<table border=\"1\" class=\"dataframe\">\n",
       "  <thead>\n",
       "    <tr style=\"text-align: right;\">\n",
       "      <th></th>\n",
       "      <th>treatment</th>\n",
       "      <th>stone_size</th>\n",
       "    </tr>\n",
       "  </thead>\n",
       "  <tbody>\n",
       "    <tr>\n",
       "      <th>82</th>\n",
       "      <td>B</td>\n",
       "      <td>small</td>\n",
       "    </tr>\n",
       "    <tr>\n",
       "      <th>51</th>\n",
       "      <td>B</td>\n",
       "      <td>small</td>\n",
       "    </tr>\n",
       "    <tr>\n",
       "      <th>220</th>\n",
       "      <td>B</td>\n",
       "      <td>large</td>\n",
       "    </tr>\n",
       "    <tr>\n",
       "      <th>669</th>\n",
       "      <td>A</td>\n",
       "      <td>large</td>\n",
       "    </tr>\n",
       "    <tr>\n",
       "      <th>545</th>\n",
       "      <td>A</td>\n",
       "      <td>small</td>\n",
       "    </tr>\n",
       "    <tr>\n",
       "      <th>...</th>\n",
       "      <td>...</td>\n",
       "      <td>...</td>\n",
       "    </tr>\n",
       "    <tr>\n",
       "      <th>71</th>\n",
       "      <td>B</td>\n",
       "      <td>large</td>\n",
       "    </tr>\n",
       "    <tr>\n",
       "      <th>106</th>\n",
       "      <td>B</td>\n",
       "      <td>small</td>\n",
       "    </tr>\n",
       "    <tr>\n",
       "      <th>270</th>\n",
       "      <td>A</td>\n",
       "      <td>small</td>\n",
       "    </tr>\n",
       "    <tr>\n",
       "      <th>435</th>\n",
       "      <td>B</td>\n",
       "      <td>small</td>\n",
       "    </tr>\n",
       "    <tr>\n",
       "      <th>102</th>\n",
       "      <td>B</td>\n",
       "      <td>small</td>\n",
       "    </tr>\n",
       "  </tbody>\n",
       "</table>\n",
       "<p>560 rows × 2 columns</p>\n",
       "</div>"
      ],
      "text/plain": [
       "    treatment stone_size\n",
       "82          B      small\n",
       "51          B      small\n",
       "220         B      large\n",
       "669         A      large\n",
       "545         A      small\n",
       "..        ...        ...\n",
       "71          B      large\n",
       "106         B      small\n",
       "270         A      small\n",
       "435         B      small\n",
       "102         B      small\n",
       "\n",
       "[560 rows x 2 columns]"
      ]
     },
     "execution_count": 56,
     "metadata": {},
     "output_type": "execute_result"
    }
   ],
   "source": [
    "x_train"
   ]
  },
  {
   "cell_type": "code",
   "execution_count": 57,
   "id": "ae24d80f",
   "metadata": {},
   "outputs": [
    {
     "data": {
      "text/plain": [
       "array(['large', 'small'], dtype=object)"
      ]
     },
     "execution_count": 57,
     "metadata": {},
     "output_type": "execute_result"
    }
   ],
   "source": [
    "x_test['stone_size'].unique()"
   ]
  },
  {
   "cell_type": "code",
   "execution_count": 58,
   "id": "2e6c56b6",
   "metadata": {},
   "outputs": [
    {
     "data": {
      "text/plain": [
       "82     1\n",
       "51     0\n",
       "220    0\n",
       "669    1\n",
       "545    1\n",
       "      ..\n",
       "71     1\n",
       "106    1\n",
       "270    1\n",
       "435    0\n",
       "102    1\n",
       "Name: success, Length: 560, dtype: int64"
      ]
     },
     "execution_count": 58,
     "metadata": {},
     "output_type": "execute_result"
    }
   ],
   "source": [
    "y_train"
   ]
  },
  {
   "cell_type": "code",
   "execution_count": 59,
   "id": "19dc1f41",
   "metadata": {},
   "outputs": [
    {
     "data": {
      "text/plain": [
       "158    1\n",
       "500    1\n",
       "396    1\n",
       "155    0\n",
       "321    0\n",
       "      ..\n",
       "24     1\n",
       "218    1\n",
       "431    1\n",
       "281    0\n",
       "110    1\n",
       "Name: success, Length: 140, dtype: int64"
      ]
     },
     "execution_count": 59,
     "metadata": {},
     "output_type": "execute_result"
    }
   ],
   "source": [
    "y_test"
   ]
  },
  {
   "cell_type": "code",
   "execution_count": 60,
   "id": "f0480aa3",
   "metadata": {},
   "outputs": [],
   "source": [
    "from sklearn.preprocessing import OneHotEncoder"
   ]
  },
  {
   "cell_type": "code",
   "execution_count": 61,
   "id": "dd2a4263",
   "metadata": {},
   "outputs": [],
   "source": [
    "from sklearn.preprocessing import OrdinalEncoder"
   ]
  },
  {
   "cell_type": "code",
   "execution_count": 62,
   "id": "23f310d9",
   "metadata": {},
   "outputs": [],
   "source": [
    "from sklearn.compose import ColumnTransformer"
   ]
  },
  {
   "cell_type": "code",
   "execution_count": 63,
   "id": "c72b3ac1",
   "metadata": {},
   "outputs": [],
   "source": [
    "trfn = ColumnTransformer(transformers=[\n",
    "    ('a',OneHotEncoder(drop = 'first',sparse = False,handle_unknown='ignore'),[0])\n",
    "],remainder = 'passthrough')"
   ]
  },
  {
   "cell_type": "code",
   "execution_count": 64,
   "id": "50ba3c7c",
   "metadata": {},
   "outputs": [],
   "source": [
    "trfn1 = ColumnTransformer(transformers = [\n",
    "    ('t2',OrdinalEncoder(categories = [['large', 'small']],unknown_value = -1,handle_unknown='use_encoded_value'),[1])\n",
    "],remainder = \"passthrough\")"
   ]
  },
  {
   "cell_type": "code",
   "execution_count": 72,
   "id": "941b95a9",
   "metadata": {},
   "outputs": [],
   "source": [
    "from sklearn.feature_selection import SelectKBest,chi2\n",
    "trfn2 = SelectKBest(score_func = chi2,k=2)"
   ]
  },
  {
   "cell_type": "code",
   "execution_count": 73,
   "id": "8033a7a2",
   "metadata": {},
   "outputs": [],
   "source": [
    "from sklearn.linear_model import LogisticRegression"
   ]
  },
  {
   "cell_type": "code",
   "execution_count": 74,
   "id": "676b5564",
   "metadata": {},
   "outputs": [],
   "source": [
    "trfn3 = LogisticRegression()"
   ]
  },
  {
   "cell_type": "code",
   "execution_count": 75,
   "id": "631fd7db",
   "metadata": {},
   "outputs": [],
   "source": [
    "from sklearn.pipeline import Pipeline"
   ]
  },
  {
   "cell_type": "code",
   "execution_count": 76,
   "id": "bf99d105",
   "metadata": {},
   "outputs": [],
   "source": [
    "pipe = Pipeline([('trfn',trfn),\n",
    "                 ('trfn1',trfn1),\n",
    "                 ('trfn2',trfn2),\n",
    "                 ('trfn3',trfn3)])"
   ]
  },
  {
   "cell_type": "code",
   "execution_count": 80,
   "id": "264e7e2c",
   "metadata": {},
   "outputs": [
    {
     "data": {
      "text/html": [
       "<style>#sk-1ca9dc78-7d32-4ba4-bb95-a040556cf22a {color: black;background-color: white;}#sk-1ca9dc78-7d32-4ba4-bb95-a040556cf22a pre{padding: 0;}#sk-1ca9dc78-7d32-4ba4-bb95-a040556cf22a div.sk-toggleable {background-color: white;}#sk-1ca9dc78-7d32-4ba4-bb95-a040556cf22a label.sk-toggleable__label {cursor: pointer;display: block;width: 100%;margin-bottom: 0;padding: 0.3em;box-sizing: border-box;text-align: center;}#sk-1ca9dc78-7d32-4ba4-bb95-a040556cf22a label.sk-toggleable__label-arrow:before {content: \"▸\";float: left;margin-right: 0.25em;color: #696969;}#sk-1ca9dc78-7d32-4ba4-bb95-a040556cf22a label.sk-toggleable__label-arrow:hover:before {color: black;}#sk-1ca9dc78-7d32-4ba4-bb95-a040556cf22a div.sk-estimator:hover label.sk-toggleable__label-arrow:before {color: black;}#sk-1ca9dc78-7d32-4ba4-bb95-a040556cf22a div.sk-toggleable__content {max-height: 0;max-width: 0;overflow: hidden;text-align: left;background-color: #f0f8ff;}#sk-1ca9dc78-7d32-4ba4-bb95-a040556cf22a div.sk-toggleable__content pre {margin: 0.2em;color: black;border-radius: 0.25em;background-color: #f0f8ff;}#sk-1ca9dc78-7d32-4ba4-bb95-a040556cf22a input.sk-toggleable__control:checked~div.sk-toggleable__content {max-height: 200px;max-width: 100%;overflow: auto;}#sk-1ca9dc78-7d32-4ba4-bb95-a040556cf22a input.sk-toggleable__control:checked~label.sk-toggleable__label-arrow:before {content: \"▾\";}#sk-1ca9dc78-7d32-4ba4-bb95-a040556cf22a div.sk-estimator input.sk-toggleable__control:checked~label.sk-toggleable__label {background-color: #d4ebff;}#sk-1ca9dc78-7d32-4ba4-bb95-a040556cf22a div.sk-label input.sk-toggleable__control:checked~label.sk-toggleable__label {background-color: #d4ebff;}#sk-1ca9dc78-7d32-4ba4-bb95-a040556cf22a input.sk-hidden--visually {border: 0;clip: rect(1px 1px 1px 1px);clip: rect(1px, 1px, 1px, 1px);height: 1px;margin: -1px;overflow: hidden;padding: 0;position: absolute;width: 1px;}#sk-1ca9dc78-7d32-4ba4-bb95-a040556cf22a div.sk-estimator {font-family: monospace;background-color: #f0f8ff;border: 1px dotted black;border-radius: 0.25em;box-sizing: border-box;margin-bottom: 0.5em;}#sk-1ca9dc78-7d32-4ba4-bb95-a040556cf22a div.sk-estimator:hover {background-color: #d4ebff;}#sk-1ca9dc78-7d32-4ba4-bb95-a040556cf22a div.sk-parallel-item::after {content: \"\";width: 100%;border-bottom: 1px solid gray;flex-grow: 1;}#sk-1ca9dc78-7d32-4ba4-bb95-a040556cf22a div.sk-label:hover label.sk-toggleable__label {background-color: #d4ebff;}#sk-1ca9dc78-7d32-4ba4-bb95-a040556cf22a div.sk-serial::before {content: \"\";position: absolute;border-left: 1px solid gray;box-sizing: border-box;top: 2em;bottom: 0;left: 50%;}#sk-1ca9dc78-7d32-4ba4-bb95-a040556cf22a div.sk-serial {display: flex;flex-direction: column;align-items: center;background-color: white;padding-right: 0.2em;padding-left: 0.2em;}#sk-1ca9dc78-7d32-4ba4-bb95-a040556cf22a div.sk-item {z-index: 1;}#sk-1ca9dc78-7d32-4ba4-bb95-a040556cf22a div.sk-parallel {display: flex;align-items: stretch;justify-content: center;background-color: white;}#sk-1ca9dc78-7d32-4ba4-bb95-a040556cf22a div.sk-parallel::before {content: \"\";position: absolute;border-left: 1px solid gray;box-sizing: border-box;top: 2em;bottom: 0;left: 50%;}#sk-1ca9dc78-7d32-4ba4-bb95-a040556cf22a div.sk-parallel-item {display: flex;flex-direction: column;position: relative;background-color: white;}#sk-1ca9dc78-7d32-4ba4-bb95-a040556cf22a div.sk-parallel-item:first-child::after {align-self: flex-end;width: 50%;}#sk-1ca9dc78-7d32-4ba4-bb95-a040556cf22a div.sk-parallel-item:last-child::after {align-self: flex-start;width: 50%;}#sk-1ca9dc78-7d32-4ba4-bb95-a040556cf22a div.sk-parallel-item:only-child::after {width: 0;}#sk-1ca9dc78-7d32-4ba4-bb95-a040556cf22a div.sk-dashed-wrapped {border: 1px dashed gray;margin: 0 0.4em 0.5em 0.4em;box-sizing: border-box;padding-bottom: 0.4em;background-color: white;position: relative;}#sk-1ca9dc78-7d32-4ba4-bb95-a040556cf22a div.sk-label label {font-family: monospace;font-weight: bold;background-color: white;display: inline-block;line-height: 1.2em;}#sk-1ca9dc78-7d32-4ba4-bb95-a040556cf22a div.sk-label-container {position: relative;z-index: 2;text-align: center;}#sk-1ca9dc78-7d32-4ba4-bb95-a040556cf22a div.sk-container {/* jupyter's `normalize.less` sets `[hidden] { display: none; }` but bootstrap.min.css set `[hidden] { display: none !important; }` so we also need the `!important` here to be able to override the default hidden behavior on the sphinx rendered scikit-learn.org. See: https://github.com/scikit-learn/scikit-learn/issues/21755 */display: inline-block !important;position: relative;}#sk-1ca9dc78-7d32-4ba4-bb95-a040556cf22a div.sk-text-repr-fallback {display: none;}</style><div id=\"sk-1ca9dc78-7d32-4ba4-bb95-a040556cf22a\" class=\"sk-top-container\"><div class=\"sk-text-repr-fallback\"><pre>Pipeline(steps=[(&#x27;trfn&#x27;,\n",
       "                 ColumnTransformer(remainder=&#x27;passthrough&#x27;,\n",
       "                                   transformers=[(&#x27;a&#x27;,\n",
       "                                                  OneHotEncoder(drop=&#x27;first&#x27;,\n",
       "                                                                handle_unknown=&#x27;ignore&#x27;,\n",
       "                                                                sparse=False),\n",
       "                                                  [0])])),\n",
       "                (&#x27;trfn1&#x27;,\n",
       "                 ColumnTransformer(remainder=&#x27;passthrough&#x27;,\n",
       "                                   transformers=[(&#x27;t2&#x27;,\n",
       "                                                  OrdinalEncoder(categories=[[&#x27;large&#x27;,\n",
       "                                                                              &#x27;small&#x27;]],\n",
       "                                                                 handle_unknown=&#x27;use_encoded_value&#x27;,\n",
       "                                                                 unknown_value=-1),\n",
       "                                                  [1])])),\n",
       "                (&#x27;trfn2&#x27;,\n",
       "                 SelectKBest(k=2,\n",
       "                             score_func=&lt;function chi2 at 0x000001AE41AD7EE0&gt;)),\n",
       "                (&#x27;trfn3&#x27;, LogisticRegression())])</pre><b>Please rerun this cell to show the HTML repr or trust the notebook.</b></div><div class=\"sk-container\" hidden><div class=\"sk-item sk-dashed-wrapped\"><div class=\"sk-label-container\"><div class=\"sk-label sk-toggleable\"><input class=\"sk-toggleable__control sk-hidden--visually\" id=\"ef44ccc4-c424-4218-8a20-ac19b784f733\" type=\"checkbox\" ><label for=\"ef44ccc4-c424-4218-8a20-ac19b784f733\" class=\"sk-toggleable__label sk-toggleable__label-arrow\">Pipeline</label><div class=\"sk-toggleable__content\"><pre>Pipeline(steps=[(&#x27;trfn&#x27;,\n",
       "                 ColumnTransformer(remainder=&#x27;passthrough&#x27;,\n",
       "                                   transformers=[(&#x27;a&#x27;,\n",
       "                                                  OneHotEncoder(drop=&#x27;first&#x27;,\n",
       "                                                                handle_unknown=&#x27;ignore&#x27;,\n",
       "                                                                sparse=False),\n",
       "                                                  [0])])),\n",
       "                (&#x27;trfn1&#x27;,\n",
       "                 ColumnTransformer(remainder=&#x27;passthrough&#x27;,\n",
       "                                   transformers=[(&#x27;t2&#x27;,\n",
       "                                                  OrdinalEncoder(categories=[[&#x27;large&#x27;,\n",
       "                                                                              &#x27;small&#x27;]],\n",
       "                                                                 handle_unknown=&#x27;use_encoded_value&#x27;,\n",
       "                                                                 unknown_value=-1),\n",
       "                                                  [1])])),\n",
       "                (&#x27;trfn2&#x27;,\n",
       "                 SelectKBest(k=2,\n",
       "                             score_func=&lt;function chi2 at 0x000001AE41AD7EE0&gt;)),\n",
       "                (&#x27;trfn3&#x27;, LogisticRegression())])</pre></div></div></div><div class=\"sk-serial\"><div class=\"sk-item sk-dashed-wrapped\"><div class=\"sk-label-container\"><div class=\"sk-label sk-toggleable\"><input class=\"sk-toggleable__control sk-hidden--visually\" id=\"e8a3a67a-0746-4f6b-a808-31042bdd1ac1\" type=\"checkbox\" ><label for=\"e8a3a67a-0746-4f6b-a808-31042bdd1ac1\" class=\"sk-toggleable__label sk-toggleable__label-arrow\">trfn: ColumnTransformer</label><div class=\"sk-toggleable__content\"><pre>ColumnTransformer(remainder=&#x27;passthrough&#x27;,\n",
       "                  transformers=[(&#x27;a&#x27;,\n",
       "                                 OneHotEncoder(drop=&#x27;first&#x27;,\n",
       "                                               handle_unknown=&#x27;ignore&#x27;,\n",
       "                                               sparse=False),\n",
       "                                 [0])])</pre></div></div></div><div class=\"sk-parallel\"><div class=\"sk-parallel-item\"><div class=\"sk-item\"><div class=\"sk-label-container\"><div class=\"sk-label sk-toggleable\"><input class=\"sk-toggleable__control sk-hidden--visually\" id=\"ae5d7ebd-e0c6-493a-bf0f-3594acf76ab0\" type=\"checkbox\" ><label for=\"ae5d7ebd-e0c6-493a-bf0f-3594acf76ab0\" class=\"sk-toggleable__label sk-toggleable__label-arrow\">a</label><div class=\"sk-toggleable__content\"><pre>[0]</pre></div></div></div><div class=\"sk-serial\"><div class=\"sk-item\"><div class=\"sk-estimator sk-toggleable\"><input class=\"sk-toggleable__control sk-hidden--visually\" id=\"7248a1a7-508c-4704-b48b-632d0d83ef8e\" type=\"checkbox\" ><label for=\"7248a1a7-508c-4704-b48b-632d0d83ef8e\" class=\"sk-toggleable__label sk-toggleable__label-arrow\">OneHotEncoder</label><div class=\"sk-toggleable__content\"><pre>OneHotEncoder(drop=&#x27;first&#x27;, handle_unknown=&#x27;ignore&#x27;, sparse=False)</pre></div></div></div></div></div></div><div class=\"sk-parallel-item\"><div class=\"sk-item\"><div class=\"sk-label-container\"><div class=\"sk-label sk-toggleable\"><input class=\"sk-toggleable__control sk-hidden--visually\" id=\"2bb51a0a-568f-4ab4-a543-8acfde379217\" type=\"checkbox\" ><label for=\"2bb51a0a-568f-4ab4-a543-8acfde379217\" class=\"sk-toggleable__label sk-toggleable__label-arrow\">remainder</label><div class=\"sk-toggleable__content\"><pre>[&#x27;stone_size&#x27;]</pre></div></div></div><div class=\"sk-serial\"><div class=\"sk-item\"><div class=\"sk-estimator sk-toggleable\"><input class=\"sk-toggleable__control sk-hidden--visually\" id=\"757211c2-a4b4-4a5b-a8f8-304c78556e5b\" type=\"checkbox\" ><label for=\"757211c2-a4b4-4a5b-a8f8-304c78556e5b\" class=\"sk-toggleable__label sk-toggleable__label-arrow\">passthrough</label><div class=\"sk-toggleable__content\"><pre>passthrough</pre></div></div></div></div></div></div></div></div><div class=\"sk-item sk-dashed-wrapped\"><div class=\"sk-label-container\"><div class=\"sk-label sk-toggleable\"><input class=\"sk-toggleable__control sk-hidden--visually\" id=\"2b577987-d8db-4ae8-8259-f4a3ef9d878a\" type=\"checkbox\" ><label for=\"2b577987-d8db-4ae8-8259-f4a3ef9d878a\" class=\"sk-toggleable__label sk-toggleable__label-arrow\">trfn1: ColumnTransformer</label><div class=\"sk-toggleable__content\"><pre>ColumnTransformer(remainder=&#x27;passthrough&#x27;,\n",
       "                  transformers=[(&#x27;t2&#x27;,\n",
       "                                 OrdinalEncoder(categories=[[&#x27;large&#x27;, &#x27;small&#x27;]],\n",
       "                                                handle_unknown=&#x27;use_encoded_value&#x27;,\n",
       "                                                unknown_value=-1),\n",
       "                                 [1])])</pre></div></div></div><div class=\"sk-parallel\"><div class=\"sk-parallel-item\"><div class=\"sk-item\"><div class=\"sk-label-container\"><div class=\"sk-label sk-toggleable\"><input class=\"sk-toggleable__control sk-hidden--visually\" id=\"20335b31-8be0-4d71-869f-f7fe5a9d46e3\" type=\"checkbox\" ><label for=\"20335b31-8be0-4d71-869f-f7fe5a9d46e3\" class=\"sk-toggleable__label sk-toggleable__label-arrow\">t2</label><div class=\"sk-toggleable__content\"><pre>[1]</pre></div></div></div><div class=\"sk-serial\"><div class=\"sk-item\"><div class=\"sk-estimator sk-toggleable\"><input class=\"sk-toggleable__control sk-hidden--visually\" id=\"4ced2291-f797-4e4f-b8ce-8c9b74f909bb\" type=\"checkbox\" ><label for=\"4ced2291-f797-4e4f-b8ce-8c9b74f909bb\" class=\"sk-toggleable__label sk-toggleable__label-arrow\">OrdinalEncoder</label><div class=\"sk-toggleable__content\"><pre>OrdinalEncoder(categories=[[&#x27;large&#x27;, &#x27;small&#x27;]],\n",
       "               handle_unknown=&#x27;use_encoded_value&#x27;, unknown_value=-1)</pre></div></div></div></div></div></div><div class=\"sk-parallel-item\"><div class=\"sk-item\"><div class=\"sk-label-container\"><div class=\"sk-label sk-toggleable\"><input class=\"sk-toggleable__control sk-hidden--visually\" id=\"7ce48bf7-b7db-4a72-9512-948b7babc699\" type=\"checkbox\" ><label for=\"7ce48bf7-b7db-4a72-9512-948b7babc699\" class=\"sk-toggleable__label sk-toggleable__label-arrow\">remainder</label><div class=\"sk-toggleable__content\"><pre>[0]</pre></div></div></div><div class=\"sk-serial\"><div class=\"sk-item\"><div class=\"sk-estimator sk-toggleable\"><input class=\"sk-toggleable__control sk-hidden--visually\" id=\"edddf193-65b3-42ab-991c-f2df7c72140e\" type=\"checkbox\" ><label for=\"edddf193-65b3-42ab-991c-f2df7c72140e\" class=\"sk-toggleable__label sk-toggleable__label-arrow\">passthrough</label><div class=\"sk-toggleable__content\"><pre>passthrough</pre></div></div></div></div></div></div></div></div><div class=\"sk-item\"><div class=\"sk-estimator sk-toggleable\"><input class=\"sk-toggleable__control sk-hidden--visually\" id=\"3b2c992b-d0d8-48bd-94c6-290d55803e55\" type=\"checkbox\" ><label for=\"3b2c992b-d0d8-48bd-94c6-290d55803e55\" class=\"sk-toggleable__label sk-toggleable__label-arrow\">SelectKBest</label><div class=\"sk-toggleable__content\"><pre>SelectKBest(k=2, score_func=&lt;function chi2 at 0x000001AE41AD7EE0&gt;)</pre></div></div></div><div class=\"sk-item\"><div class=\"sk-estimator sk-toggleable\"><input class=\"sk-toggleable__control sk-hidden--visually\" id=\"de2a80ec-5313-4556-92ea-952c144ac305\" type=\"checkbox\" ><label for=\"de2a80ec-5313-4556-92ea-952c144ac305\" class=\"sk-toggleable__label sk-toggleable__label-arrow\">LogisticRegression</label><div class=\"sk-toggleable__content\"><pre>LogisticRegression()</pre></div></div></div></div></div></div></div>"
      ],
      "text/plain": [
       "Pipeline(steps=[('trfn',\n",
       "                 ColumnTransformer(remainder='passthrough',\n",
       "                                   transformers=[('a',\n",
       "                                                  OneHotEncoder(drop='first',\n",
       "                                                                handle_unknown='ignore',\n",
       "                                                                sparse=False),\n",
       "                                                  [0])])),\n",
       "                ('trfn1',\n",
       "                 ColumnTransformer(remainder='passthrough',\n",
       "                                   transformers=[('t2',\n",
       "                                                  OrdinalEncoder(categories=[['large',\n",
       "                                                                              'small']],\n",
       "                                                                 handle_unknown='use_encoded_value',\n",
       "                                                                 unknown_value=-1),\n",
       "                                                  [1])])),\n",
       "                ('trfn2',\n",
       "                 SelectKBest(k=2,\n",
       "                             score_func=<function chi2 at 0x000001AE41AD7EE0>)),\n",
       "                ('trfn3', LogisticRegression())])"
      ]
     },
     "execution_count": 80,
     "metadata": {},
     "output_type": "execute_result"
    }
   ],
   "source": [
    "pipe.fit(x_train,y_train)"
   ]
  },
  {
   "cell_type": "code",
   "execution_count": 78,
   "id": "9c47dc0d",
   "metadata": {},
   "outputs": [],
   "source": [
    "from sklearn import set_config"
   ]
  },
  {
   "cell_type": "code",
   "execution_count": 79,
   "id": "57c8f9ba",
   "metadata": {},
   "outputs": [],
   "source": [
    "set_config(display = 'diagram')"
   ]
  },
  {
   "cell_type": "code",
   "execution_count": 81,
   "id": "0cb40596",
   "metadata": {},
   "outputs": [],
   "source": [
    "y_pred = pipe.predict(x_test)"
   ]
  },
  {
   "cell_type": "code",
   "execution_count": 87,
   "id": "d1e8c0b3",
   "metadata": {},
   "outputs": [
    {
     "data": {
      "text/plain": [
       "array([1, 1, 1, 1, 1, 1, 1, 1, 1, 1, 1, 1, 1, 1, 1, 1, 1, 1, 1, 1, 1, 1,\n",
       "       1, 1, 1, 1, 1, 1, 1, 1, 1, 1, 1, 1, 1, 1, 1, 1, 1, 1, 1, 1, 1, 1,\n",
       "       1, 1, 1, 1, 1, 1, 1, 1, 1, 1, 1, 1, 1, 1, 1, 1, 1, 1, 1, 1, 1, 1,\n",
       "       1, 1, 1, 1, 1, 1, 1, 1, 1, 1, 1, 1, 1, 1, 1, 1, 1, 1, 1, 1, 1, 1,\n",
       "       1, 1, 1, 1, 1, 1, 1, 1, 1, 1, 1, 1, 1, 1, 1, 1, 1, 1, 1, 1, 1, 1,\n",
       "       1, 1, 1, 1, 1, 1, 1, 1, 1, 1, 1, 1, 1, 1, 1, 1, 1, 1, 1, 1, 1, 1,\n",
       "       1, 1, 1, 1, 1, 1, 1, 1], dtype=int64)"
      ]
     },
     "execution_count": 87,
     "metadata": {},
     "output_type": "execute_result"
    }
   ],
   "source": [
    "y_pred"
   ]
  },
  {
   "cell_type": "code",
   "execution_count": 83,
   "id": "0cfe6635",
   "metadata": {},
   "outputs": [],
   "source": [
    "from sklearn.metrics import accuracy_score"
   ]
  },
  {
   "cell_type": "code",
   "execution_count": 85,
   "id": "7d2d2ebb",
   "metadata": {},
   "outputs": [
    {
     "data": {
      "text/plain": [
       "0.7571428571428571"
      ]
     },
     "execution_count": 85,
     "metadata": {},
     "output_type": "execute_result"
    }
   ],
   "source": [
    "accuracy_score(y_test,y_pred)"
   ]
  },
  {
   "cell_type": "code",
   "execution_count": 90,
   "id": "7d2c93d6",
   "metadata": {},
   "outputs": [],
   "source": [
    "from sklearn.model_selection import cross_val_score"
   ]
  },
  {
   "cell_type": "code",
   "execution_count": 95,
   "id": "589b0d49",
   "metadata": {},
   "outputs": [
    {
     "data": {
      "text/plain": [
       "0.8142857142857143"
      ]
     },
     "execution_count": 95,
     "metadata": {},
     "output_type": "execute_result"
    }
   ],
   "source": [
    "cross_val_score(pipe,x_train,y_train,cv = 5,scoring = 'accuracy').mean()"
   ]
  },
  {
   "cell_type": "code",
   "execution_count": 96,
   "id": "173c11c7",
   "metadata": {},
   "outputs": [],
   "source": [
    "import pickle"
   ]
  },
  {
   "cell_type": "code",
   "execution_count": 97,
   "id": "09204474",
   "metadata": {},
   "outputs": [],
   "source": [
    "pickle.dump(pipe,open('ksd.pkl','wb'))"
   ]
  },
  {
   "cell_type": "code",
   "execution_count": null,
   "id": "01c0d7c9",
   "metadata": {},
   "outputs": [],
   "source": []
  }
 ],
 "metadata": {
  "kernelspec": {
   "display_name": "Python 3 (ipykernel)",
   "language": "python",
   "name": "python3"
  },
  "language_info": {
   "codemirror_mode": {
    "name": "ipython",
    "version": 3
   },
   "file_extension": ".py",
   "mimetype": "text/x-python",
   "name": "python",
   "nbconvert_exporter": "python",
   "pygments_lexer": "ipython3",
   "version": "3.9.12"
  }
 },
 "nbformat": 4,
 "nbformat_minor": 5
}
