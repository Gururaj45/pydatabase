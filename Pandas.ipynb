{
 "cells": [
  {
   "cell_type": "markdown",
   "id": "24dfc85b",
   "metadata": {},
   "source": [
    "# PANDAS SERIES"
   ]
  },
  {
   "cell_type": "code",
   "execution_count": 7,
   "id": "ac7d6cae",
   "metadata": {},
   "outputs": [
    {
     "name": "stdout",
     "output_type": "stream",
     "text": [
      "0    1\n",
      "1    2\n",
      "2    3\n",
      "3    4\n",
      "dtype: int64\n",
      "0    a\n",
      "1    b\n",
      "2    c\n",
      "3    d\n",
      "dtype: object\n"
     ]
    }
   ],
   "source": [
    "import numpy as np\n",
    "import pandas as pd\n",
    "Ser1= pd.Series([1,2,3,4])\n",
    "print(Ser1)\n",
    "Ser2=pd.Series(['a','b','c','d'])\n",
    "print(Ser2)"
   ]
  },
  {
   "cell_type": "code",
   "execution_count": 17,
   "id": "cb7657fc",
   "metadata": {},
   "outputs": [
    {
     "name": "stdout",
     "output_type": "stream",
     "text": [
      "0    1.0\n",
      "1    2.0\n",
      "2    3.0\n",
      "3    4.0\n",
      "dtype: float64\n",
      "0    a\n",
      "1    b\n",
      "2    c\n",
      "3    d\n",
      "dtype: object\n"
     ]
    }
   ],
   "source": [
    "import numpy as np\n",
    "import pandas as pd\n",
    "Ser1= pd.Series([1,2,3,4], dtype=\"float64\")\n",
    "print(Ser1)\n",
    "Ser2=pd.Series(['a','b','c','d'])\n",
    "print(Ser2)"
   ]
  },
  {
   "cell_type": "code",
   "execution_count": 8,
   "id": "db5e1ca9",
   "metadata": {},
   "outputs": [
    {
     "name": "stdout",
     "output_type": "stream",
     "text": [
      "a    1\n",
      "b    2\n",
      "c    3\n",
      "d    4\n",
      "dtype: int64\n"
     ]
    }
   ],
   "source": [
    "import pandas as pd\n",
    "Ser1= pd.Series([1,2,3,4],index=[\"a\",\"b\",\"c\",\"d\"])\n",
    "print(Ser1)"
   ]
  },
  {
   "cell_type": "code",
   "execution_count": 18,
   "id": "12f030de",
   "metadata": {},
   "outputs": [
    {
     "name": "stdout",
     "output_type": "stream",
     "text": [
      "a    1\n",
      "b    2\n",
      "c    3\n",
      "d    4\n",
      "dtype: int64\n"
     ]
    }
   ],
   "source": [
    "import pandas as pd\n",
    "i=pd.Index([\"a\",\"b\",\"c\",\"d\"])\n",
    "Ser1 = pd.Series([1,2,3,4],index=i)\n",
    "print(Ser1)"
   ]
  },
  {
   "cell_type": "markdown",
   "id": "881e4b21",
   "metadata": {},
   "source": []
  }
 ],
 "metadata": {
  "kernelspec": {
   "display_name": "Python 3 (ipykernel)",
   "language": "python",
   "name": "python3"
  },
  "language_info": {
   "codemirror_mode": {
    "name": "ipython",
    "version": 3
   },
   "file_extension": ".py",
   "mimetype": "text/x-python",
   "name": "python",
   "nbconvert_exporter": "python",
   "pygments_lexer": "ipython3",
   "version": "3.9.12"
  }
 },
 "nbformat": 4,
 "nbformat_minor": 5
}
