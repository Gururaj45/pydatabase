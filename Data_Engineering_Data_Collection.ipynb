{
 "cells": [
  {
   "cell_type": "markdown",
   "id": "544e17ce",
   "metadata": {},
   "source": [
    "# Data engineering pipeline"
   ]
  },
  {
   "cell_type": "markdown",
   "id": "d3a90f70",
   "metadata": {},
   "source": [
    "# Data Collection"
   ]
  },
  {
   "cell_type": "markdown",
   "id": "8a74ee29",
   "metadata": {},
   "source": [
    "# Population and sample"
   ]
  },
  {
   "cell_type": "markdown",
   "id": "7ed97e4e",
   "metadata": {},
   "source": [
    "# What is Population?"
   ]
  },
  {
   "cell_type": "markdown",
   "id": "62bcaa9d",
   "metadata": {},
   "source": [
    "In statistics, population is the entire set of items from which you draw data for a statistical study. It can be a group of individuals, a set of items, etc. It makes up the data pool for a study."
   ]
  },
  {
   "cell_type": "markdown",
   "id": "e74de641",
   "metadata": {},
   "source": [
    "# What is a Sample?"
   ]
  },
  {
   "cell_type": "markdown",
   "id": "446663c9",
   "metadata": {},
   "source": [
    "A sample is defined as a smaller and more manageable representation of a larger group. A subset of a larger population that contains characteristics of that population. A sample is used in statistical testing when the population size is too large for all members or observations to be included in the test."
   ]
  },
  {
   "cell_type": "markdown",
   "id": "c5756cfe",
   "metadata": {},
   "source": [
    "# Basically, there are two types of sampling. They are:"
   ]
  },
  {
   "cell_type": "markdown",
   "id": "1021c7ac",
   "metadata": {},
   "source": [
    "1.Probability sampling 2.Non-probability sampling"
   ]
  },
  {
   "cell_type": "markdown",
   "id": "fdb7cde6",
   "metadata": {},
   "source": [
    "# Probability Sampling"
   ]
  },
  {
   "cell_type": "markdown",
   "id": "bd862c8b",
   "metadata": {},
   "source": [
    "In probability sampling, the population units cannot be selected at the discretion of the researcher. This can be dealt with following certain procedures which will ensure that every unit of the population consists of one fixed probability being included in the sample. Such a method is also called random sampling. Some of the techniques used for probability sampling are:"
   ]
  },
  {
   "cell_type": "markdown",
   "id": "52a7cd19",
   "metadata": {},
   "source": [
    "1.Simple random sampling 2.Cluster sampling 3.Stratified Sampling 4.Disproportionate sampling 5.Proportionate sampling 6.Optimum allocation stratified sampling 7.Multi-stage sampling"
   ]
  },
  {
   "cell_type": "markdown",
   "id": "0b683f5f",
   "metadata": {},
   "source": [
    "# Non Probability Sampling"
   ]
  },
  {
   "cell_type": "markdown",
   "id": "009b93d3",
   "metadata": {},
   "source": [
    "In non-probability sampling, the population units can be selected at the discretion of the researcher. Those samples will use the human judgements for selecting units and has no theoretical basis for estimating the characteristics of the population. Some of the techniques used for non-probability sampling are"
   ]
  },
  {
   "cell_type": "markdown",
   "id": "0db99bd7",
   "metadata": {},
   "source": [
    "Quota sampling Judgement sampling Purposive sampling"
   ]
  },
  {
   "cell_type": "markdown",
   "id": "993965a6",
   "metadata": {},
   "source": [
    "# Population and Sample Examples"
   ]
  },
  {
   "cell_type": "markdown",
   "id": "2cc33542",
   "metadata": {},
   "source": [
    "All the people who have the ID proofs is the population and a group of people who only have voter id with them is the sample. All the students in the class are population whereas the top 10 students in the class are the sample. All the members of the parliament is population and the female candidates present there is the sample."
   ]
  },
  {
   "cell_type": "markdown",
   "id": "df1bcc11",
   "metadata": {},
   "source": [
    "# Types of data"
   ]
  },
  {
   "cell_type": "markdown",
   "id": "adfd992f",
   "metadata": {},
   "source": [
    "\n",
    "# 1. Data type"
   ]
  },
  {
   "cell_type": "markdown",
   "id": "5ee1a7fc",
   "metadata": {},
   "source": [
    "# type 1 (cross sectional, time series)"
   ]
  },
  {
   "cell_type": "markdown",
   "id": "8d9955e6",
   "metadata": {},
   "source": [
    "Cross-sectional data refer to observations of many different individuals (subjects, objects) at a given time, each observation belonging to a different individual. Example: gross annual income for each of 1000 randomly chosen households in India for the year 2000."
   ]
  },
  {
   "cell_type": "markdown",
   "id": "42822ef1",
   "metadata": {},
   "source": [
    "A time series data is the set of measurements taking place in a constant interval of time, here time acts as independent variable and the objective ( to study changes in a characteristics) is dependent variables. Example: Sales on daily basis"
   ]
  },
  {
   "cell_type": "markdown",
   "id": "206c55a5",
   "metadata": {},
   "source": [
    "# Time series data: A set of observations contains values, taken by variable at different times."
   ]
  },
  {
   "cell_type": "markdown",
   "id": "18354395",
   "metadata": {},
   "source": [
    "# Cross-sectional data: Data values of one or more variables, gathered at the same time-point."
   ]
  },
  {
   "cell_type": "markdown",
   "id": "3d3cf1a4",
   "metadata": {},
   "source": [
    "# type 2 (univariate, multivariate)"
   ]
  },
  {
   "cell_type": "markdown",
   "id": "fa05241a",
   "metadata": {},
   "source": [
    "univariate: Univariate is used to describe a type of data which consists of observations on only a single characteristic or attribute. Example: salaries of an employee in Company."
   ]
  },
  {
   "cell_type": "markdown",
   "id": "7aa5bdcf",
   "metadata": {},
   "source": [
    "multivariate: multivariate is used to describe a type of data which consists of observations on two or more characteristic or attribute.Examples: name,Department,YoE,Salary of an employee in Company."
   ]
  },
  {
   "cell_type": "markdown",
   "id": "e88f1e73",
   "metadata": {},
   "source": [
    "# 2. Variable types (categorical, ordinal, ratio, interval)"
   ]
  },
  {
   "cell_type": "markdown",
   "id": "48e2047c",
   "metadata": {},
   "source": [
    "Categorical: Categorical variables are usually represented as ‘strings’ or ‘categories’ and are finite in number. Examples:1.The city where a person lives: Delhi, Mumbai, Ahmedabad, Bangalore, etc.2.The department a person works in: Finance, Human resources, IT, Production."
   ]
  },
  {
   "cell_type": "markdown",
   "id": "fcd01361",
   "metadata": {},
   "source": [
    "Nominal Data: Nominal Data can not be place in any order or quantitative value. Example: Gender (Male, Female, Others)"
   ]
  },
  {
   "cell_type": "markdown",
   "id": "6cd56796",
   "metadata": {},
   "source": [
    "Ordinal data: Ordinal data have natural ordering where a number is present in some kind of order by their position on the scale. Example: Pclass (First Class, Second Class, Third Class)"
   ]
  },
  {
   "cell_type": "markdown",
   "id": "50c8eedd",
   "metadata": {},
   "source": [
    "Quantitative Data- Quantitative data can be expressed in numerical values, making it countable and including statistical data analysis. These kinds of data are also known as Numerical data. Example: Age of a person."
   ]
  },
  {
   "cell_type": "markdown",
   "id": "c9bb74e3",
   "metadata": {},
   "source": [
    "Discrete Data: The discrete data contain the values that fall under integers or whole numbers. These data can’t be broken into decimal or fraction values. Example: The total number of students in a class."
   ]
  },
  {
   "cell_type": "markdown",
   "id": "ef4c8bf9",
   "metadata": {},
   "source": [
    "Continuous data: Continuous data are in the form of fractional numbers. Continuous data represents information that can be divided into smaller levels. The continuous variable can take any value within a range. Example: the height of a person, the length of an object."
   ]
  },
  {
   "cell_type": "markdown",
   "id": "1cbeec41",
   "metadata": {},
   "source": [
    "Ratio data: Ratio data is a form of quantitative (numeric) data. It measures variables on a continuous scale, with an equal distance between adjacent values. ratio data is all about measuring continuous variables on equidistant scales. ratio data can never have a negative value. Examples: Height (5ft. 8in., 5ft. 9in., 5ft. 10in., 5ft. 11in., 6ft. 0in. etc.), Price of item (0, 5, 10, 15, 20, 30, etc.)"
   ]
  },
  {
   "cell_type": "markdown",
   "id": "bc1292a3",
   "metadata": {},
   "source": [
    "interval: Interval data is a type of quantitative (numerical) data. It groups variables into categories and always uses some kind of ordered scale. Furthermore, interval values are always ordered and separated using an equal measure of distance."
   ]
  },
  {
   "cell_type": "markdown",
   "id": "22b284f5",
   "metadata": {},
   "source": [
    "# Exercise: consider the Titanic dataset identify all tpes of datas."
   ]
  },
  {
   "cell_type": "markdown",
   "id": "db67725c",
   "metadata": {},
   "source": [
    "# Key terminologies in Statistics"
   ]
  },
  {
   "cell_type": "markdown",
   "id": "453fda89",
   "metadata": {},
   "source": [
    "# Probability (Basic concepts)"
   ]
  },
  {
   "cell_type": "markdown",
   "id": "4cb2047e",
   "metadata": {},
   "source": [
    "# Probability: Probability tells how likely is the event to occur. The value of Probability always lies between 0 to 1. It is the core concept as well as a primary prerequisite to understanding the ML models and their applications."
   ]
  },
  {
   "cell_type": "markdown",
   "id": "f5e432b3",
   "metadata": {},
   "source": [
    "# Probability can be calculated by the number of times the event occurs divided by the total number of possible outcomes. Let's suppose we tossed a coin, then the probability of getting head as a possible outcome can be calculated as below formula:"
   ]
  },
  {
   "cell_type": "markdown",
   "id": "416ce98f",
   "metadata": {},
   "source": [
    "# P (H) = Number of ways to head occur/ total number of possible outcomes"
   ]
  },
  {
   "cell_type": "markdown",
   "id": "2f708402",
   "metadata": {},
   "source": [
    "# P (H) = ½"
   ]
  },
  {
   "cell_type": "markdown",
   "id": "ba63659c",
   "metadata": {},
   "source": [
    "# P (H) = 0.5"
   ]
  },
  {
   "cell_type": "markdown",
   "id": "e076dae4",
   "metadata": {},
   "source": [
    "# Where;"
   ]
  },
  {
   "cell_type": "markdown",
   "id": "5d5c0b38",
   "metadata": {},
   "source": [
    "# P (H) = Probability of occurring Head as outcome while tossing a coin."
   ]
  },
  {
   "cell_type": "code",
   "execution_count": null,
   "id": "439f9744",
   "metadata": {},
   "outputs": [],
   "source": []
  },
  {
   "cell_type": "markdown",
   "id": "acc2f368",
   "metadata": {},
   "source": [
    "# Conditional probability"
   ]
  },
  {
   "cell_type": "markdown",
   "id": "ce8f748d",
   "metadata": {},
   "source": [
    "# Conditional Probability:It is given by the Probability of event A given that event B occurred."
   ]
  },
  {
   "cell_type": "markdown",
   "id": "534b0328",
   "metadata": {},
   "source": [
    "# The Probability of an event A conditioned on an event B is denoted and defined as;"
   ]
  },
  {
   "cell_type": "markdown",
   "id": "7d8347de",
   "metadata": {},
   "source": [
    "# P(A|B) = P(A∩B)/P(B)"
   ]
  },
  {
   "cell_type": "markdown",
   "id": "fe72db53",
   "metadata": {},
   "source": [
    "# Similarly, P(B|A) = P(A ∩ B)/ P(A) . We can write the joint Probability of as A and B as P(A ∩ B)= p(A).P(B|A), which means: \"The chance of both things happening is the chance that the first one happens, and then the second one is given when the first thing happened.\""
   ]
  },
  {
   "cell_type": "markdown",
   "id": "a0c279c5",
   "metadata": {},
   "source": [
    "# Joint Probability:It tells the Probability of simultaneously occurring two random events."
   ]
  },
  {
   "cell_type": "markdown",
   "id": "777fa452",
   "metadata": {},
   "source": [
    "# P(A ∩ B) = P(A). P(B)"
   ]
  },
  {
   "cell_type": "markdown",
   "id": "0afdc49e",
   "metadata": {},
   "source": [
    "# Where;"
   ]
  },
  {
   "cell_type": "markdown",
   "id": "d03fe377",
   "metadata": {},
   "source": [
    "# P(A ∩ B) = Probability of occurring events A and B both."
   ]
  },
  {
   "cell_type": "markdown",
   "id": "6eca456f",
   "metadata": {},
   "source": [
    "# P (A) = Probability of event A"
   ]
  },
  {
   "cell_type": "markdown",
   "id": "2f3d50e5",
   "metadata": {},
   "source": [
    "# P (B) = Probability of event B"
   ]
  },
  {
   "cell_type": "markdown",
   "id": "726e0cc8",
   "metadata": {},
   "source": [
    "# Bayes’ Theorem"
   ]
  },
  {
   "cell_type": "markdown",
   "id": "e2867be0",
   "metadata": {},
   "source": [
    "# Probability Distributions"
   ]
  },
  {
   "cell_type": "markdown",
   "id": "4fd6ece1",
   "metadata": {},
   "source": [
    "1.Discrete\n",
    "\n",
    "2.Continuous\n",
    "\n",
    "3.Central Limit Theorem"
   ]
  },
  {
   "cell_type": "code",
   "execution_count": null,
   "id": "4498fcad",
   "metadata": {},
   "outputs": [],
   "source": []
  }
 ],
 "metadata": {
  "kernelspec": {
   "display_name": "Python 3 (ipykernel)",
   "language": "python",
   "name": "python3"
  },
  "language_info": {
   "codemirror_mode": {
    "name": "ipython",
    "version": 3
   },
   "file_extension": ".py",
   "mimetype": "text/x-python",
   "name": "python",
   "nbconvert_exporter": "python",
   "pygments_lexer": "ipython3",
   "version": "3.9.12"
  }
 },
 "nbformat": 4,
 "nbformat_minor": 5
}
