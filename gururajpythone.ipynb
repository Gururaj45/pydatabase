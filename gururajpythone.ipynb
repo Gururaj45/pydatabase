{
 "cells": [
  {
   "cell_type": "markdown",
   "id": "47985867",
   "metadata": {},
   "source": [
    "# import mysql connector\n"
   ]
  },
  {
   "cell_type": "code",
   "execution_count": 1,
   "id": "07d16684",
   "metadata": {},
   "outputs": [],
   "source": [
    "import mysql.connector as con "
   ]
  },
  {
   "cell_type": "markdown",
   "id": "7313dcd0",
   "metadata": {},
   "source": [
    "# connection to database"
   ]
  },
  {
   "cell_type": "code",
   "execution_count": 3,
   "id": "0f414e04",
   "metadata": {},
   "outputs": [
    {
     "name": "stdout",
     "output_type": "stream",
     "text": [
      "<mysql.connector.connection_cext.CMySQLConnection object at 0x000002A773C53DC0>\n"
     ]
    }
   ],
   "source": [
    "import mysql.connector as con \n",
    "new_db = con.connect(\n",
    " host = \"localhost\",\n",
    " user = \"root\",\n",
    " password = \"root\"\n",
    ")\n",
    "print(new_db)"
   ]
  },
  {
   "cell_type": "markdown",
   "id": "ed5b565c",
   "metadata": {},
   "source": [
    "# creating DATA BASE"
   ]
  },
  {
   "cell_type": "code",
   "execution_count": 4,
   "id": "8cf234a9",
   "metadata": {},
   "outputs": [
    {
     "name": "stdout",
     "output_type": "stream",
     "text": [
      "<mysql.connector.connection_cext.CMySQLConnection object at 0x000002A774E872B0>\n"
     ]
    }
   ],
   "source": [
    "import mysql.connector as con \n",
    "new_db = con.connect(\n",
    " host = \"localhost\",\n",
    " user = \"root\",\n",
    " password = \"root\"\n",
    ")\n",
    "print(new_db)\n",
    "new_cursor = new_db.cursor()\n",
    "new_cursor.execute(\"CREATE DATABASE college\")"
   ]
  },
  {
   "cell_type": "markdown",
   "id": "250d6929",
   "metadata": {},
   "source": [
    "# check database created or not ?"
   ]
  },
  {
   "cell_type": "code",
   "execution_count": 7,
   "id": "9c0923b9",
   "metadata": {},
   "outputs": [
    {
     "name": "stdout",
     "output_type": "stream",
     "text": [
      "<mysql.connector.connection_cext.CMySQLConnection object at 0x000002A771F71C70>\n",
      "('college',)\n",
      "('information_schema',)\n",
      "('mysql',)\n",
      "('performance_schema',)\n",
      "('sakila',)\n",
      "('sys',)\n",
      "('world',)\n"
     ]
    }
   ],
   "source": [
    "import mysql.connector as con \n",
    "new_db = con.connect(\n",
    " host = \"localhost\",\n",
    " user = \"root\",\n",
    " password = \"root\"\n",
    ")\n",
    "print(new_db)\n",
    "new_cursor = new_db.cursor()\n",
    "new_cursor.execute(\"SHOW DATABASES\")\n",
    "for a in new_cursor:\n",
    "    print(a)"
   ]
  },
  {
   "cell_type": "markdown",
   "id": "5074f9f8",
   "metadata": {},
   "source": [
    "# Creating Tables and Showing Data"
   ]
  },
  {
   "cell_type": "code",
   "execution_count": 24,
   "id": "7fb24863",
   "metadata": {},
   "outputs": [],
   "source": [
    "import mysql.connector as con \n",
    "new_db = con.connect(\n",
    " host = \"localhost\",\n",
    " user = \"root\",\n",
    " password = \"root\",\n",
    " database = \"college\"\n",
    ")\n",
    "new_cursor = new_db.cursor()\n",
    "new_cursor.execute (\"CREATE TABLE student1(rno int,name varchar(100))\")\n",
    "                    \n"
   ]
  },
  {
   "cell_type": "markdown",
   "id": "a10508b5",
   "metadata": {},
   "source": [
    "# SHOWING TABLES FROM DATABASES"
   ]
  },
  {
   "cell_type": "code",
   "execution_count": 11,
   "id": "37722bf2",
   "metadata": {},
   "outputs": [
    {
     "name": "stdout",
     "output_type": "stream",
     "text": [
      "('student',)\n"
     ]
    }
   ],
   "source": [
    "import mysql.connector as con \n",
    "new_db = con.connect(\n",
    " host = \"localhost\",\n",
    " user = \"root\",\n",
    " password = \"root\",\n",
    " database = \"college\"\n",
    ")\n",
    "new_cursor = new_db.cursor()\n",
    "new_cursor.execute (\"SHOW TABLES\")\n",
    "for n in new_cursor:\n",
    "    print(n)\n",
    "                    \n"
   ]
  },
  {
   "cell_type": "markdown",
   "id": "ac0242b7",
   "metadata": {},
   "source": [
    "# INSERTING DATA INTO TABLES "
   ]
  },
  {
   "cell_type": "code",
   "execution_count": 25,
   "id": "ab112bab",
   "metadata": {
    "scrolled": true
   },
   "outputs": [
    {
     "name": "stdout",
     "output_type": "stream",
     "text": [
      "1 new record inserted\n"
     ]
    }
   ],
   "source": [
    "import mysql.connector as con \n",
    "new_db = con.connect(\n",
    " host = \"localhost\",\n",
    " user = \"root\",\n",
    " password = \"root\",\n",
    " database = \"college\"\n",
    ")\n",
    "new_cursor = new_db.cursor()\n",
    "query = \"INSERT INTO student1 (rno,name) VALUES (%s, %s)\"\n",
    "values = \"39321702\",\"gururaj\"\n",
    "new_cursor.execute (query,values)\n",
    "new_db.commit()\n",
    "print(new_cursor.rowcount,\"new record inserted\")\n",
    "    \n",
    "                    \n"
   ]
  },
  {
   "cell_type": "markdown",
   "id": "a2b071af",
   "metadata": {},
   "source": [
    "# INSERTING MULTIPLE VALUES INTO TABLE"
   ]
  },
  {
   "cell_type": "code",
   "execution_count": 43,
   "id": "fb2ff08f",
   "metadata": {},
   "outputs": [
    {
     "name": "stdout",
     "output_type": "stream",
     "text": [
      "4 new record inserted\n"
     ]
    }
   ],
   "source": [
    "import mysql.connector as con \n",
    "new_db = con.connect(\n",
    " host = \"localhost\",\n",
    " user = \"root\",\n",
    " password = \"root\",\n",
    " database = \"college\"\n",
    ")\n",
    "new_cursor = new_db.cursor()\n",
    "query = \"INSERT INTO student1 (rno, name) VALUES (%s, %s)\"\n",
    "values = [(\"9391902\",\"Rahul\"),\n",
    "          (\"3931903\",\"Akash\"),\n",
    "          (\"3931904\",\"Omkar\"),\n",
    "          (\"3931905\",\"Abhinav\")\n",
    "         ]\n",
    "new_cursor.executemany(query,values)\n",
    "new_db.commit()\n",
    "print(new_cursor.rowcount,\"new record inserted\")\n",
    "    \n",
    "                    "
   ]
  },
  {
   "cell_type": "markdown",
   "id": "6d72238d",
   "metadata": {},
   "source": [
    "# DISPLAY RECORDS FROM TABLES"
   ]
  },
  {
   "cell_type": "code",
   "execution_count": 45,
   "id": "8b42c6cf",
   "metadata": {},
   "outputs": [
    {
     "name": "stdout",
     "output_type": "stream",
     "text": [
      "(39321702, 'gururaj')\n",
      "(9391902, 'Rahul')\n",
      "(3931903, 'Akash')\n",
      "(3931904, 'Omkar')\n",
      "(3931905, 'Abhinav')\n"
     ]
    }
   ],
   "source": [
    "new_cursor = new_db.cursor()\n",
    "new_cursor.execute(\"SELECT * FROM student1 \")\n",
    "for a in new_cursor:\n",
    "    print(a)\n",
    "    "
   ]
  },
  {
   "cell_type": "markdown",
   "id": "61de8dda",
   "metadata": {},
   "source": [
    "# Display particular Record from Database"
   ]
  },
  {
   "cell_type": "code",
   "execution_count": 1,
   "id": "47b0e19c",
   "metadata": {},
   "outputs": [
    {
     "ename": "NameError",
     "evalue": "name 'new_db' is not defined",
     "output_type": "error",
     "traceback": [
      "\u001b[1;31m---------------------------------------------------------------------------\u001b[0m",
      "\u001b[1;31mNameError\u001b[0m                                 Traceback (most recent call last)",
      "Input \u001b[1;32mIn [1]\u001b[0m, in \u001b[0;36m<cell line: 1>\u001b[1;34m()\u001b[0m\n\u001b[1;32m----> 1\u001b[0m new_cursor \u001b[38;5;241m=\u001b[39m \u001b[43mnew_db\u001b[49m\u001b[38;5;241m.\u001b[39mcursor()\n\u001b[0;32m      2\u001b[0m new_cursor\u001b[38;5;241m.\u001b[39mexecute(\u001b[38;5;124m\"\u001b[39m\u001b[38;5;124mSELECT name FROM student1 \u001b[39m\u001b[38;5;124m\"\u001b[39m)\n\u001b[0;32m      3\u001b[0m \u001b[38;5;28;01mfor\u001b[39;00m a \u001b[38;5;129;01min\u001b[39;00m new_cursor:\n",
      "\u001b[1;31mNameError\u001b[0m: name 'new_db' is not defined"
     ]
    }
   ],
   "source": [
    "new_cursor = new_db.cursor()\n",
    "new_cursor.execute(\"SELECT name FROM student1 \")\n",
    "for a in new_cursor:\n",
    "    print(a)\n",
    "    "
   ]
  },
  {
   "cell_type": "code",
   "execution_count": 2,
   "id": "4d8fd657",
   "metadata": {},
   "outputs": [
    {
     "name": "stdout",
     "output_type": "stream",
     "text": [
      "('gururaj',)\n",
      "('Rahul',)\n",
      "('Akash',)\n",
      "('Omkar',)\n",
      "('Abhinav',)\n"
     ]
    }
   ],
   "source": [
    "import mysql.connector as con \n",
    "new_db = con.connect(\n",
    " host = \"localhost\",\n",
    " user = \"root\",\n",
    " password = \"root\",\n",
    " database = \"college\"\n",
    ")\n",
    "new_cursor = new_db.cursor()\n",
    "new_cursor.execute (\"SELECT name FROM STUDENT1\")\n",
    "for n in new_cursor:\n",
    "    print(n)"
   ]
  },
  {
   "cell_type": "code",
   "execution_count": null,
   "id": "302929d5",
   "metadata": {},
   "outputs": [],
   "source": []
  }
 ],
 "metadata": {
  "kernelspec": {
   "display_name": "Python 3 (ipykernel)",
   "language": "python",
   "name": "python3"
  },
  "language_info": {
   "codemirror_mode": {
    "name": "ipython",
    "version": 3
   },
   "file_extension": ".py",
   "mimetype": "text/x-python",
   "name": "python",
   "nbconvert_exporter": "python",
   "pygments_lexer": "ipython3",
   "version": "3.9.12"
  }
 },
 "nbformat": 4,
 "nbformat_minor": 5
}
